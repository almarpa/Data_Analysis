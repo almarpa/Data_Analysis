{
 "cells": [
  {
   "cell_type": "markdown",
   "metadata": {},
   "source": [
    "# Tarea 4: Gramáticas Incontextuales y algoritmos de análisis"
   ]
  },
  {
   "cell_type": "markdown",
   "metadata": {},
   "source": [
    "Escribe una función en Python que analice sintácticamente un corpus de oraciones. El corpus será un archivo de texto en el que cada línea se corresponderá con una oración. Generará tres archivos:\n",
    "\n",
    "- el primero, con el resultado del análisis de las oraciones correctas no ambiguas (un único árbol sintáctico)\n",
    "\n",
    "- el segundo, con el resultado del análisis de las oraciones correctas ambiguas (todos sus árboles sintácticos)\n",
    "\n",
    "- el tercero, con la lista de oraciones no reconocidas."
   ]
  },
  {
   "cell_type": "code",
   "execution_count": 7,
   "metadata": {
    "scrolled": false
   },
   "outputs": [],
   "source": [
    "import nltk\n",
    "from nltk import parse, CFG\n",
    "\n",
    "sentences = open('corpus.txt', 'r', encoding='utf8').readlines()\n",
    "\n",
    "def demo(sentence, gramm_file):\n",
    "    #Cargamos la gramática desde el fichero\n",
    "    grammar = nltk.CFG.fromstring(open(gramm_file, \"r\", encoding=\"utf-8\"))\n",
    "   \n",
    "    line = sentence\n",
    "    #Dividimos la frase en palabras\n",
    "    sentence = sentence.split()\n",
    "    \n",
    "    #Realizamos el análisis de la frase\n",
    "    parser = parse.RecursiveDescentParser(grammar, trace=0)\n",
    "    cont = 0\n",
    "    \n",
    "    treeList = list(parser.parse(sentence))\n",
    "    \n",
    "    #for p in parser.parse(sentence):\n",
    "    for p in treeList:\n",
    "        #print(p)\n",
    "        #Contamos las definiciones para saber si es 'no reconocida', 'ambigua' o 'no ambigua'\n",
    "        if p[0]:\n",
    "            cont += 1\n",
    "    \n",
    "    if cont == 0:\n",
    "        f = open ('no_reconocidas.txt','a', encoding='utf8')\n",
    "        f.write(str(line))\n",
    "        f.close()\n",
    "    elif cont == 1:\n",
    "        f = open ('no_ambiguas.txt','a', encoding='utf8')\n",
    "        f.write(\"Frase: \")\n",
    "        f.write(str(line))\n",
    "        f.write(\"\\n Árbol sintáctico: \\n\")\n",
    "        f.write(str(treeList[0]))\n",
    "        f.write(\"\\n\\n\")\n",
    "        f.close()\n",
    "    elif cont > 0:\n",
    "        f = open ('ambiguas.txt','a', encoding='utf8')\n",
    "        f.write(\"Frase: \")\n",
    "        f.write(str(line))\n",
    "        arb = 0\n",
    "        for tree in treeList:\n",
    "            f.write(\"\\n Árbol sintáctico \")\n",
    "            f.write(str(arb+1))\n",
    "            f.write(\": \\n\")\n",
    "            f.write(str(treeList[arb]))\n",
    "            f.write(\"\\n\\n\")\n",
    "            arb+=1\n",
    "        f.write(\"\\n\\n\")    \n",
    "        f.close()\n",
    "        \n",
    "for sentence in sentences:\n",
    "    demo(sentence, 'gramatica3.cfg')\n",
    "    \n",
    "    \n"
   ]
  },
  {
   "cell_type": "markdown",
   "metadata": {},
   "source": [
    "Modifica la gramática para que tenga en cuenta la **concordancia de género y número en sintagamas nominales (SN)**, rechazando aquellas oraciones cuyos SN no concuerden. Vuelve a procesar el corpus y comprueba cómo ahora algunas oraciones no son reconocidas por fallos en la concordancia. Deberás adjuntar también la gramática modificada."
   ]
  },
  {
   "cell_type": "code",
   "execution_count": 8,
   "metadata": {},
   "outputs": [],
   "source": [
    "for sentence in sentences:\n",
    "    demo(sentence, 'gramatica3_mod.cfg')\n"
   ]
  }
 ],
 "metadata": {
  "kernelspec": {
   "display_name": "Python 3",
   "language": "python",
   "name": "python3"
  },
  "language_info": {
   "codemirror_mode": {
    "name": "ipython",
    "version": 3
   },
   "file_extension": ".py",
   "mimetype": "text/x-python",
   "name": "python",
   "nbconvert_exporter": "python",
   "pygments_lexer": "ipython3",
   "version": "3.7.4"
  }
 },
 "nbformat": 4,
 "nbformat_minor": 2
}
