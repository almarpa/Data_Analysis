{
 "cells": [
  {
   "cell_type": "markdown",
   "metadata": {},
   "source": [
    "# Ejemplos POS Tagging"
   ]
  },
  {
   "cell_type": "markdown",
   "metadata": {},
   "source": [
    "1.- Aprendizaje y evaluación de etiquetadores basados en unigramas y bigramas"
   ]
  },
  {
   "cell_type": "code",
   "execution_count": 14,
   "metadata": {},
   "outputs": [
    {
     "name": "stderr",
     "output_type": "stream",
     "text": [
      "[nltk_data] Downloading package treebank to\n",
      "[nltk_data]     C:\\Users\\alex_\\AppData\\Roaming\\nltk_data...\n",
      "[nltk_data]   Unzipping corpora\\treebank.zip.\n"
     ]
    },
    {
     "data": {
      "text/plain": [
       "True"
      ]
     },
     "execution_count": 14,
     "metadata": {},
     "output_type": "execute_result"
    }
   ],
   "source": [
    "import pprint\n",
    "from nltk.tag import UnigramTagger, BigramTagger, TrigramTagger\n",
    "from nltk.corpus import treebank\n",
    "import nltk\n",
    "nltk.download('treebank')\n"
   ]
  },
  {
   "cell_type": "raw",
   "metadata": {},
   "source": [
    "(a) Definición del conjunto de frases de entrenamiento (el 90%)"
   ]
  },
  {
   "cell_type": "code",
   "execution_count": 15,
   "metadata": {},
   "outputs": [],
   "source": [
    "talla = int(len(treebank.tagged_sents()) * 0.9)\n",
    "train_sents = treebank.tagged_sents(tagset = 'universal')[:talla]"
   ]
  },
  {
   "cell_type": "raw",
   "metadata": {},
   "source": [
    "(b) Aprendizaje del modelo de unigramas"
   ]
  },
  {
   "cell_type": "code",
   "execution_count": 17,
   "metadata": {},
   "outputs": [],
   "source": [
    "unigram_tagger = UnigramTagger(train_sents)"
   ]
  },
  {
   "cell_type": "raw",
   "metadata": {},
   "source": [
    "(c) Aprendizaje modelo de bigramas"
   ]
  },
  {
   "cell_type": "code",
   "execution_count": 18,
   "metadata": {},
   "outputs": [],
   "source": [
    "bigram_tagger = BigramTagger(train_sents)"
   ]
  },
  {
   "cell_type": "raw",
   "metadata": {},
   "source": [
    "(d) Evaluación, considerando el resto de frases como conjunto de prueba"
   ]
  },
  {
   "cell_type": "code",
   "execution_count": 19,
   "metadata": {},
   "outputs": [
    {
     "name": "stdout",
     "output_type": "stream",
     "text": [
      "Tasas de acierto:\n",
      "Unigramas: 3.91%\n",
      "Bigramas: 0.11%\n"
     ]
    }
   ],
   "source": [
    "test_sents = treebank.tagged_sents()[talla:]\n",
    "okUni = round(unigram_tagger.evaluate(test_sents) * 100, 2);\n",
    "okBi = round(bigram_tagger.evaluate(test_sents) * 100, 2);\n",
    "print(\"Tasas de acierto:\")\n",
    "print(\"Unigramas: \" + str(okUni) + \"%\")\n",
    "print(\"Bigramas: \" + str(okBi) + \"%\")"
   ]
  },
  {
   "cell_type": "raw",
   "metadata": {},
   "source": [
    "(e) Etiquetado de la primera frase del test"
   ]
  },
  {
   "cell_type": "code",
   "execution_count": 20,
   "metadata": {},
   "outputs": [
    {
     "name": "stdout",
     "output_type": "stream",
     "text": [
      "['First', 'of', 'America', 'said', '0', 'some', 'of', 'the', 'managers', 'will', 'take', 'other', 'jobs', 'with', 'First', 'of', 'America', '.']\n",
      "[('First', 'NOUN'),\n",
      " ('of', 'ADP'),\n",
      " ('America', 'NOUN'),\n",
      " ('said', 'VERB'),\n",
      " ('0', 'X'),\n",
      " ('some', 'DET'),\n",
      " ('of', 'ADP'),\n",
      " ('the', 'DET'),\n",
      " ('managers', 'NOUN'),\n",
      " ('will', 'VERB'),\n",
      " ('take', 'VERB'),\n",
      " ('other', 'ADJ'),\n",
      " ('jobs', 'NOUN'),\n",
      " ('with', 'ADP'),\n",
      " ('First', 'NOUN'),\n",
      " ('of', 'ADP'),\n",
      " ('America', 'NOUN'),\n",
      " ('.', '.')]\n",
      "[('First', 'NOUN'),\n",
      " ('of', 'ADP'),\n",
      " ('America', 'NOUN'),\n",
      " ('said', 'VERB'),\n",
      " ('0', 'X'),\n",
      " ('some', 'DET'),\n",
      " ('of', 'ADP'),\n",
      " ('the', 'DET'),\n",
      " ('managers', 'NOUN'),\n",
      " ('will', 'VERB'),\n",
      " ('take', 'VERB'),\n",
      " ('other', 'ADJ'),\n",
      " ('jobs', 'NOUN'),\n",
      " ('with', 'ADP'),\n",
      " ('First', 'NOUN'),\n",
      " ('of', 'ADP'),\n",
      " ('America', 'NOUN'),\n",
      " ('.', '.')]\n"
     ]
    }
   ],
   "source": [
    "sent1 = treebank.sents()[talla+1]\n",
    "print (sent1)\n",
    "pprint.pprint(unigram_tagger.tag(sent1))\n",
    "pprint.pprint(bigram_tagger.tag(sent1))"
   ]
  },
  {
   "cell_type": "markdown",
   "metadata": {},
   "source": [
    "2.- Definición y evaluación del etiquetador por defecto, usando la etiqueta más frecuente"
   ]
  },
  {
   "cell_type": "raw",
   "metadata": {},
   "source": [
    "(a) Definición del etiquetador por defecto"
   ]
  },
  {
   "cell_type": "code",
   "execution_count": 21,
   "metadata": {},
   "outputs": [],
   "source": [
    "import pprint\n",
    "from nltk.corpus import treebank\n",
    "from nltk.tag import DefaultTagger\n",
    "from nltk.probability import FreqDist\n",
    "tags = [tag for (word, tag) in treebank.tagged_words()]\n",
    "masFTag = FreqDist(tags).max()\n",
    "default_tagger = DefaultTagger(masFTag)"
   ]
  },
  {
   "cell_type": "raw",
   "metadata": {},
   "source": [
    "(b) Evaluación del etiquetador x defecto"
   ]
  },
  {
   "cell_type": "code",
   "execution_count": 21,
   "metadata": {},
   "outputs": [
    {
     "name": "stdout",
     "output_type": "stream",
     "text": [
      "0.14331966328512843\n"
     ]
    }
   ],
   "source": [
    "test_sents = treebank.tagged_sents()[3000:]\n",
    "print(default_tagger.evaluate(test_sents))"
   ]
  },
  {
   "cell_type": "raw",
   "metadata": {},
   "source": [
    "(c) Etiquetado de la primera frase del test"
   ]
  },
  {
   "cell_type": "code",
   "execution_count": 22,
   "metadata": {},
   "outputs": [
    {
     "name": "stdout",
     "output_type": "stream",
     "text": [
      "['First', 'of', 'America', 'said', '0', 'some', 'of', 'the', 'managers', 'will', 'take', 'other', 'jobs', 'with', 'First', 'of', 'America', '.']\n",
      "[('First', 'NN'),\n",
      " ('of', 'NN'),\n",
      " ('America', 'NN'),\n",
      " ('said', 'NN'),\n",
      " ('0', 'NN'),\n",
      " ('some', 'NN'),\n",
      " ('of', 'NN'),\n",
      " ('the', 'NN'),\n",
      " ('managers', 'NN'),\n",
      " ('will', 'NN'),\n",
      " ('take', 'NN'),\n",
      " ('other', 'NN'),\n",
      " ('jobs', 'NN'),\n",
      " ('with', 'NN'),\n",
      " ('First', 'NN'),\n",
      " ('of', 'NN'),\n",
      " ('America', 'NN'),\n",
      " ('.', 'NN')]\n"
     ]
    }
   ],
   "source": [
    "sent1 = treebank.sents()[talla+1]\n",
    "print(sent1)\n",
    "tag = default_tagger.tag(sent1)\n",
    "pprint.pprint(tag)"
   ]
  },
  {
   "cell_type": "markdown",
   "metadata": {},
   "source": [
    "3.- Definición y evaluación de un etiquetador usando backoff"
   ]
  },
  {
   "cell_type": "raw",
   "metadata": {},
   "source": [
    "(a) Definición del etiquetador backoff"
   ]
  },
  {
   "cell_type": "code",
   "execution_count": 23,
   "metadata": {},
   "outputs": [],
   "source": [
    "import pprint\n",
    "from nltk.corpus import treebank\n",
    "from nltk.tag import DefaultTagger, UnigramTagger, BigramTagger\n",
    "from nltk.probability import FreqDist\n",
    "tags = [tag for (word, tag) in treebank.tagged_words()]\n",
    "masFTag = FreqDist(tags).max()\n",
    "default_tagger = DefaultTagger(masFTag)\n",
    "\n",
    "talla = int(len(treebank.tagged_sents()) * 0.9)\n",
    "train_sents = treebank.tagged_sents()[:talla]\n",
    "unigram_tagger = UnigramTagger(train_sents, backoff = default_tagger)\n",
    "backoff_tagger = BigramTagger(train_sents, backoff= unigram_tagger)"
   ]
  },
  {
   "cell_type": "raw",
   "metadata": {},
   "source": [
    "(b) Evaluación del etiquetador backoff"
   ]
  },
  {
   "cell_type": "code",
   "execution_count": 24,
   "metadata": {},
   "outputs": [
    {
     "name": "stdout",
     "output_type": "stream",
     "text": [
      "Bigramas - backoff: 89.06%\n"
     ]
    }
   ],
   "source": [
    "test_sents = treebank.tagged_sents()[talla:]\n",
    "okTriBO = round(backoff_tagger.evaluate(test_sents) * 100, 2);\n",
    "print(\"Bigramas - backoff: \" + str(okTriBO) + \"%\")"
   ]
  },
  {
   "cell_type": "raw",
   "metadata": {},
   "source": [
    "(c) Etiquetado de la primera frase del test"
   ]
  },
  {
   "cell_type": "code",
   "execution_count": 25,
   "metadata": {},
   "outputs": [
    {
     "name": "stdout",
     "output_type": "stream",
     "text": [
      "['First', 'of', 'America', 'said', '0', 'some', 'of', 'the', 'managers', 'will', 'take', 'other', 'jobs', 'with', 'First', 'of', 'America', '.']\n",
      "[('First', 'NNP'),\n",
      " ('of', 'IN'),\n",
      " ('America', 'NNP'),\n",
      " ('said', 'VBD'),\n",
      " ('0', '-NONE-'),\n",
      " ('some', 'DT'),\n",
      " ('of', 'IN'),\n",
      " ('the', 'DT'),\n",
      " ('managers', 'NNS'),\n",
      " ('will', 'MD'),\n",
      " ('take', 'VB'),\n",
      " ('other', 'JJ'),\n",
      " ('jobs', 'NNS'),\n",
      " ('with', 'IN'),\n",
      " ('First', 'NNP'),\n",
      " ('of', 'IN'),\n",
      " ('America', 'NNP'),\n",
      " ('.', '.')]\n"
     ]
    }
   ],
   "source": [
    "sent1 = treebank.sents()[talla+1]\n",
    "print(sent1)\n",
    "tag = backoff_tagger.tag(sent1)\n",
    "pprint.pprint(tag)"
   ]
  },
  {
   "cell_type": "code",
   "execution_count": null,
   "metadata": {},
   "outputs": [],
   "source": []
  }
 ],
 "metadata": {
  "anaconda-cloud": {},
  "kernelspec": {
   "display_name": "Python 3",
   "language": "python",
   "name": "python3"
  },
  "language_info": {
   "codemirror_mode": {
    "name": "ipython",
    "version": 3
   },
   "file_extension": ".py",
   "mimetype": "text/x-python",
   "name": "python",
   "nbconvert_exporter": "python",
   "pygments_lexer": "ipython3",
   "version": "3.7.4"
  }
 },
 "nbformat": 4,
 "nbformat_minor": 1
}
