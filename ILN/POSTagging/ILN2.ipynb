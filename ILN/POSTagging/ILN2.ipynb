{
 "cells": [
  {
   "cell_type": "markdown",
   "metadata": {},
   "source": [
    "# ILN 2: POS Tagging"
   ]
  },
  {
   "cell_type": "raw",
   "metadata": {},
   "source": [
    "Evaluación de etiquetadores de n-gramas sobre el corpus treebank utilizando el método de validación cruzada: 10% de frases de test y el resto de entrenamiento,validando sobre 10 particiones diferentes. Considera los modelos: unigramas, bigramas y bigramas con backoff."
   ]
  },
  {
   "cell_type": "raw",
   "metadata": {},
   "source": [
    "(a) Busca la etiqueta POS más frecuente en el corpus para construir un etiquetador por defecto: siempre asocia la etiqueta más frecuente en el corpus"
   ]
  },
  {
   "cell_type": "code",
   "execution_count": 8,
   "metadata": {},
   "outputs": [
    {
     "name": "stdout",
     "output_type": "stream",
     "text": [
      "NOUN\n"
     ]
    }
   ],
   "source": [
    "\n",
    "#Daniela Ramos Márquez y Alejandro Marco Palomares\n",
    "\n",
    "import pprint\n",
    "from nltk.corpus import treebank\n",
    "from nltk.tag import DefaultTagger, UnigramTagger, BigramTagger\n",
    "from nltk.probability import FreqDist\n",
    "\n",
    "tags = [tag for (word, tag) in treebank.tagged_words(tagset = 'universal')]\n",
    "masFTag = FreqDist(tags).max()\n",
    "print(masFTag)\n",
    "\n",
    "#Etiquetador por defecto\n",
    "default_tagger = DefaultTagger(masFTag)"
   ]
  },
  {
   "cell_type": "raw",
   "metadata": {},
   "source": [
    "(b) Escribe código para realizar la validación sobre 10 particiones: Cada partición usa como test un 10% de las frases diferente en cada caso y el resto de frases conforman el conjunto de prueba. Se suman las tasas de acierto en cada modelo en cada partición y se promedia"
   ]
  },
  {
   "cell_type": "code",
   "execution_count": 10,
   "metadata": {},
   "outputs": [
    {
     "name": "stdout",
     "output_type": "stream",
     "text": [
      "Tasas de acierto:\n",
      "Unigramas: 75.242%\n",
      "Bigramas: 6.333%\n",
      "Bigramas - backoff: 87.364%\n"
     ]
    }
   ],
   "source": [
    "partition = int(len(treebank.tagged_sents(tagset = 'universal'))/10)\n",
    "#Devuelve una lista que contiene 10 listas iguales.\n",
    "iter_list = zip(*[iter(treebank.tagged_sents(tagset='universal'))]*partition)\n",
    "\n",
    "summatoryUni = 0\n",
    "summatoryBi = 0\n",
    "summatoryTri = 0\n",
    "\n",
    "#Recorremos las listas y calculamos su tasa de acierto para cada uno de los 3 modelos\n",
    "for lista in iter_list:\n",
    "\n",
    "    talla = int(len(lista) * 0.9)\n",
    "    train_sents = lista[:talla]\n",
    "    test_sents = lista[talla:]\n",
    "    \n",
    "    unigram_tagger = UnigramTagger(train_sents)\n",
    "    bigram_tagger = BigramTagger(train_sents)\n",
    "    \n",
    "    #Unigrama\n",
    "    okUni = round(unigram_tagger.evaluate(test_sents) * 100, 2);\n",
    "    #Bigrama\n",
    "    okBi = round(bigram_tagger.evaluate(test_sents) * 100, 2);\n",
    "    #Bigrama con backoff\n",
    "    unigram_tagger = UnigramTagger(train_sents, backoff = default_tagger)\n",
    "    backoff_tagger = BigramTagger(train_sents, backoff= unigram_tagger)\n",
    "    okTriBO = round(backoff_tagger.evaluate(test_sents) * 100, 2);\n",
    "    \n",
    "    summatoryUni += okUni\n",
    "    summatoryBi += okBi\n",
    "    summatoryTri += okTriBO\n",
    "\n",
    "print(\"Tasas de acierto:\")    \n",
    "print(\"Unigramas: \" + str(round(summatoryUni/10,3)) + \"%\")\n",
    "print(\"Bigramas: \" + str(round(summatoryBi/10,3)) + \"%\")\n",
    "print(\"Bigramas - backoff: \" + str(round(summatoryTri/10,3)) + \"%\")\n",
    "  "
   ]
  },
  {
   "cell_type": "raw",
   "metadata": {},
   "source": [
    "(c) Escribe código para etiquetar la frase \"Are you exaggerating or have you got the wrong figures?\"  utilizando los tres modelos aprendidos. "
   ]
  },
  {
   "cell_type": "raw",
   "metadata": {},
   "source": [
    "#### \n",
    "Las diferencias más significativas obtenidas en el etiquetado de esta frase han sido:\n",
    "-Por un lado, los modelos con unigrama y bigrama con backoff tienen una tasa de acierto muy similar (75.242% y 87.364%, respectivamente), y el etiquetado de la frase es idéntico en este caso. \n",
    "-Por otro lado, el etiquetador basado en el modelo bigrama resulta muy genérico y etiqueta todas las palabras de la frase con \"None\" (NN), por lo que no resulta ser exacto.\n",
    "####"
   ]
  },
  {
   "cell_type": "code",
   "execution_count": 11,
   "metadata": {},
   "outputs": [
    {
     "name": "stdout",
     "output_type": "stream",
     "text": [
      "[('Are', 'NOUN'),\n",
      " ('you', 'PRON'),\n",
      " ('exaggerating', 'NOUN'),\n",
      " ('or', 'CONJ'),\n",
      " ('have', 'VERB'),\n",
      " ('you', 'PRON'),\n",
      " ('got', 'NOUN'),\n",
      " ('the', 'DET'),\n",
      " ('wrong', 'NOUN'),\n",
      " ('figures', 'NOUN'),\n",
      " ('?', '.')]\n",
      "[('Are', None),\n",
      " ('you', None),\n",
      " ('exaggerating', None),\n",
      " ('or', None),\n",
      " ('have', None),\n",
      " ('you', None),\n",
      " ('got', None),\n",
      " ('the', None),\n",
      " ('wrong', None),\n",
      " ('figures', None),\n",
      " ('?', None)]\n",
      "[('Are', 'NOUN'),\n",
      " ('you', 'PRON'),\n",
      " ('exaggerating', 'NOUN'),\n",
      " ('or', 'CONJ'),\n",
      " ('have', 'VERB'),\n",
      " ('you', 'PRON'),\n",
      " ('got', 'NOUN'),\n",
      " ('the', 'DET'),\n",
      " ('wrong', 'NOUN'),\n",
      " ('figures', 'NOUN'),\n",
      " ('?', '.')]\n"
     ]
    }
   ],
   "source": [
    "from nltk.tokenize import word_tokenize\n",
    "frase = \"Are you exaggerating or have you got the wrong figures?\"\n",
    "\n",
    "frase = word_tokenize(frase)\n",
    "\n",
    "uni = unigram_tagger.tag(frase)\n",
    "bi = bigram_tagger.tag(frase)\n",
    "bi_backoff = backoff_tagger.tag(frase)\n",
    "\n",
    "pprint.pprint(uni)\n",
    "pprint.pprint(bi)\n",
    "pprint.pprint(bi_backoff)"
   ]
  }
 ],
 "metadata": {
  "anaconda-cloud": {},
  "kernelspec": {
   "display_name": "Python 3",
   "language": "python",
   "name": "python3"
  },
  "language_info": {
   "codemirror_mode": {
    "name": "ipython",
    "version": 3
   },
   "file_extension": ".py",
   "mimetype": "text/x-python",
   "name": "python",
   "nbconvert_exporter": "python",
   "pygments_lexer": "ipython3",
   "version": "3.7.4"
  }
 },
 "nbformat": 4,
 "nbformat_minor": 1
}
