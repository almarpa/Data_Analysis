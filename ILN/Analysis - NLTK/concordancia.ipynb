{
 "cells": [
  {
   "cell_type": "markdown",
   "metadata": {
    "nbpresent": {
     "id": "4c3ba838-f644-4890-a61f-0d6c8088fb87"
    }
   },
   "source": [
    "# Ejemplo 1: concordancia sin usar el tokenizador de nltk"
   ]
  },
  {
   "cell_type": "raw",
   "metadata": {
    "nbpresent": {
     "id": "0e38d85b-82a2-4529-87e0-da681ce47920"
    }
   },
   "source": [
    "Código python para mostrar el contenido del fichero BowieHeroes.txt (se han numerado las líneas)"
   ]
  },
  {
   "cell_type": "code",
   "execution_count": 1,
   "metadata": {
    "nbpresent": {
     "id": "534eb058-559a-450b-b382-e389a0f663ac"
    },
    "scrolled": true
   },
   "outputs": [
    {
     "name": "stdout",
     "output_type": "stream",
     "text": [
      "1 I, I wish you could swim\n",
      "\n",
      "2 Like the dolphins, like dolphins can swim\n",
      "\n",
      "3 Though nothing, nothing will keep us together\n",
      "\n",
      "4 We can beat them, for ever and ever\n",
      "\n",
      "5 Oh we can be heroes, just for one day\n",
      "\n",
      "6 \n",
      "\n",
      "7 I, I will be king\n",
      "\n",
      "8 And you, you will be queen\n",
      "\n",
      "9 Though nothing will drive them away\n",
      "\n",
      "10 We can be heroes, just for one day\n",
      "\n",
      "11 We can be us, just for one day\n",
      "\n",
      "12 \n",
      "\n",
      "13 I, I can remember (I remember)\n",
      "\n",
      "14 Standing, by the wall (by the wall)\n",
      "\n",
      "15 And the guns, shot above our heads (over our heads)\n",
      "\n",
      "16 And we kissed, as though nothing could fall (nothing could fall)\n",
      "\n",
      "17 And the shame, was on the other side\n",
      "\n",
      "18 Oh, we can beat them, for ever and ever\n",
      "\n",
      "19 Then we could be heroes, just for one day\n",
      "\n",
      "20 \n",
      "\n",
      "21 We can be heroes\n",
      "\n",
      "22 We can be heroes\n",
      "\n",
      "23 We can be heroes\n",
      "\n",
      "24 Just for one day\n",
      "\n",
      "25 We can be heroes\n"
     ]
    }
   ],
   "source": [
    "nol = 1\n",
    "for linea in open('BowieHeroes.txt','r'):\n",
    "    print(\"%d %s\" %(nol, linea))\n",
    "    nol = nol +1"
   ]
  },
  {
   "cell_type": "raw",
   "metadata": {
    "nbpresent": {
     "id": "a99392c5-6c0c-41d3-b1be-520500d17fe9"
    }
   },
   "source": [
    "El siguiente código muestra por pantalla un listado con cada palabra, junto con los números de líneas en los que aparece:"
   ]
  },
  {
   "cell_type": "code",
   "execution_count": 2,
   "metadata": {
    "nbpresent": {
     "id": "ab1a0278-8fa7-4882-bc5a-5048ceec1bc3"
    }
   },
   "outputs": [
    {
     "name": "stdout",
     "output_type": "stream",
     "text": [
      "   Palabra \t #lineas\n",
      "        i, \t [1, 7, 13]\n",
      "         i \t [1, 7, 13]\n",
      "      wish \t [1]\n",
      "       you \t [1, 8]\n",
      "     could \t [1, 16, 16, 19]\n",
      "      swim \t [1, 2]\n",
      "      like \t [2, 2]\n",
      "       the \t [2, 14, 14, 15, 17, 17]\n",
      " dolphins, \t [2]\n",
      "  dolphins \t [2]\n",
      "       can \t [2, 4, 5, 10, 11, 13, 18, 21, 22, 23, 25]\n",
      "    though \t [3, 9, 16]\n",
      "  nothing, \t [3]\n",
      "   nothing \t [3, 9, 16]\n",
      "      will \t [3, 7, 8, 9]\n",
      "      keep \t [3]\n",
      "        us \t [3]\n",
      "  together \t [3]\n",
      "        we \t [4, 5, 10, 11, 16, 18, 19, 21, 22, 23, 25]\n",
      "      beat \t [4, 18]\n",
      "     them, \t [4, 18]\n",
      "       for \t [4, 5, 10, 11, 18, 19, 24]\n",
      "      ever \t [4, 4, 18, 18]\n",
      "       and \t [4, 8, 15, 16, 17, 18]\n",
      "        oh \t [5]\n",
      "        be \t [5, 7, 8, 10, 11, 19, 21, 22, 23, 25]\n",
      "   heroes, \t [5, 10, 19]\n",
      "      just \t [5, 10, 11, 19, 24]\n",
      "       one \t [5, 10, 11, 19, 24]\n",
      "       day \t [5, 10, 11, 19, 24]\n",
      "      king \t [7]\n",
      "      you, \t [8]\n",
      "     queen \t [8]\n",
      "     drive \t [9]\n",
      "      them \t [9]\n",
      "      away \t [9]\n",
      "       us, \t [11]\n",
      "  remember \t [13]\n",
      "        (i \t [13]\n",
      " remember) \t [13]\n",
      " standing, \t [14]\n",
      "        by \t [14]\n",
      "      wall \t [14]\n",
      "       (by \t [14]\n",
      "     wall) \t [14]\n",
      "     guns, \t [15]\n",
      "      shot \t [15]\n",
      "     above \t [15]\n",
      "       our \t [15, 15]\n",
      "     heads \t [15]\n",
      "     (over \t [15]\n",
      "    heads) \t [15]\n",
      "   kissed, \t [16]\n",
      "        as \t [16]\n",
      "      fall \t [16]\n",
      "  (nothing \t [16]\n",
      "     fall) \t [16]\n",
      "    shame, \t [17]\n",
      "       was \t [17]\n",
      "        on \t [17]\n",
      "     other \t [17]\n",
      "      side \t [17]\n",
      "       oh, \t [18]\n",
      "      then \t [19]\n",
      "    heroes \t [21, 22, 23, 25]\n"
     ]
    }
   ],
   "source": [
    "dic = {}       ## diccionario: claves palabras - valores lista de # lineas\n",
    "cont = 1       ## contador de lineas\n",
    "for linea in open('BowieHeroes.txt','r'):\n",
    "   for pal in linea.lower().split():\n",
    "     if pal in dic:\n",
    "       dic[pal].append(cont)\n",
    "     else: dic[pal] = [cont]\n",
    "   cont += 1\n",
    "\n",
    "## listado\n",
    "print(\"%10s \\t %s\" %(\"Palabra\", \"#lineas\"))\n",
    "for k,v in dic.items():\n",
    "   print(\"%10s \\t %s\" %(k, v))"
   ]
  },
  {
   "cell_type": "markdown",
   "metadata": {
    "collapsed": true
   },
   "source": [
    "# Ejemplo 2: concordancia usando el tokenizador de nltk"
   ]
  },
  {
   "cell_type": "code",
   "execution_count": 3,
   "metadata": {
    "nbpresent": {
     "id": "de8da9d5-78ea-4019-b1dd-9087453c2fc8"
    }
   },
   "outputs": [
    {
     "name": "stdout",
     "output_type": "stream",
     "text": [
      "   Palabra \t #lineas\n",
      "         i \t [1, 1, 7, 7, 13, 13, 13]\n",
      "         , \t [1, 2, 3, 4, 5, 7, 8, 10, 11, 13, 14, 15, 16, 17, 18, 18, 19]\n",
      "      wish \t [1]\n",
      "       you \t [1, 8, 8]\n",
      "     could \t [1, 16, 16, 19]\n",
      "      swim \t [1, 2]\n",
      "      like \t [2, 2]\n",
      "       the \t [2, 14, 14, 15, 17, 17]\n",
      "  dolphins \t [2, 2]\n",
      "       can \t [2, 4, 5, 10, 11, 13, 18, 21, 22, 23, 25]\n",
      "    though \t [3, 9, 16]\n",
      "   nothing \t [3, 3, 9, 16, 16]\n",
      "      will \t [3, 7, 8, 9]\n",
      "      keep \t [3]\n",
      "        us \t [3, 11]\n",
      "  together \t [3]\n",
      "        we \t [4, 5, 10, 11, 16, 18, 19, 21, 22, 23, 25]\n",
      "      beat \t [4, 18]\n",
      "      them \t [4, 9, 18]\n",
      "       for \t [4, 5, 10, 11, 18, 19, 24]\n",
      "      ever \t [4, 4, 18, 18]\n",
      "       and \t [4, 8, 15, 16, 17, 18]\n",
      "        oh \t [5, 18]\n",
      "        be \t [5, 7, 8, 10, 11, 19, 21, 22, 23, 25]\n",
      "    heroes \t [5, 10, 19, 21, 22, 23, 25]\n",
      "      just \t [5, 10, 11, 19, 24]\n",
      "       one \t [5, 10, 11, 19, 24]\n",
      "       day \t [5, 10, 11, 19, 24]\n",
      "      king \t [7]\n",
      "     queen \t [8]\n",
      "     drive \t [9]\n",
      "      away \t [9]\n",
      "  remember \t [13, 13]\n",
      "         ( \t [13, 14, 15, 16]\n",
      "         ) \t [13, 14, 15, 16]\n",
      "  standing \t [14]\n",
      "        by \t [14, 14]\n",
      "      wall \t [14, 14]\n",
      "      guns \t [15]\n",
      "      shot \t [15]\n",
      "     above \t [15]\n",
      "       our \t [15, 15]\n",
      "     heads \t [15, 15]\n",
      "      over \t [15]\n",
      "    kissed \t [16]\n",
      "        as \t [16]\n",
      "      fall \t [16, 16]\n",
      "     shame \t [17]\n",
      "       was \t [17]\n",
      "        on \t [17]\n",
      "     other \t [17]\n",
      "      side \t [17]\n",
      "      then \t [19]\n"
     ]
    }
   ],
   "source": [
    "from nltk.tokenize import word_tokenize\n",
    "dic = {}       ## diccionario: claves palabras - valores lista de # lineas\n",
    "cont = 1       ## contador de lineas\n",
    "for linea in open('BowieHeroes.txt','r'):\n",
    "   for pal in word_tokenize(linea.lower()):\n",
    "     if pal in dic:\n",
    "       dic[pal].append(cont)\n",
    "     else: dic[pal] = [cont]\n",
    "   cont += 1\n",
    "\n",
    "## listado\n",
    "print(\"%10s \\t %s\" %(\"Palabra\", \"#lineas\"))\n",
    "for k,v in dic.items():\n",
    "   print(\"%10s \\t %s\" %(k, v))"
   ]
  },
  {
   "cell_type": "code",
   "execution_count": 13,
   "metadata": {},
   "outputs": [
    {
     "name": "stderr",
     "output_type": "stream",
     "text": [
      "[nltk_data] Downloading package punkt to\n",
      "[nltk_data]     C:\\Users\\alex_\\AppData\\Roaming\\nltk_data...\n",
      "[nltk_data]   Package punkt is already up-to-date!\n"
     ]
    },
    {
     "data": {
      "text/plain": [
       "True"
      ]
     },
     "execution_count": 13,
     "metadata": {},
     "output_type": "execute_result"
    }
   ],
   "source": [
    "nltk.download('punkt')"
   ]
  },
  {
   "cell_type": "code",
   "execution_count": null,
   "metadata": {},
   "outputs": [],
   "source": []
  }
 ],
 "metadata": {
  "anaconda-cloud": {},
  "kernelspec": {
   "display_name": "Python 3",
   "language": "python",
   "name": "python3"
  },
  "language_info": {
   "codemirror_mode": {
    "name": "ipython",
    "version": 3
   },
   "file_extension": ".py",
   "mimetype": "text/x-python",
   "name": "python",
   "nbconvert_exporter": "python",
   "pygments_lexer": "ipython3",
   "version": "3.7.4"
  },
  "nbpresent": {
   "slides": {
    "1c3a8d0b-0b7c-4867-88cf-18c42179fede": {
     "id": "1c3a8d0b-0b7c-4867-88cf-18c42179fede",
     "layout": "treemap",
     "prev": null,
     "regions": {
      "b05523f8-8c96-48c0-9893-e4c1ed8a9d23": {
       "attrs": {
        "height": 1,
        "pad": 0.01,
        "treemap:weight": 1,
        "width": 1,
        "x": 0,
        "y": 0
       },
       "id": "b05523f8-8c96-48c0-9893-e4c1ed8a9d23"
      }
     }
    }
   },
   "themes": {
    "default": "0d06f8c5-fd8a-4657-956b-1abcac8d9e08",
    "theme": {
     "0d06f8c5-fd8a-4657-956b-1abcac8d9e08": {
      "id": "0d06f8c5-fd8a-4657-956b-1abcac8d9e08",
      "palette": {
       "19cc588f-0593-49c9-9f4b-e4d7cc113b1c": {
        "id": "19cc588f-0593-49c9-9f4b-e4d7cc113b1c",
        "rgb": [
         252,
         252,
         252
        ]
       },
       "31af15d2-7e15-44c5-ab5e-e04b16a89eff": {
        "id": "31af15d2-7e15-44c5-ab5e-e04b16a89eff",
        "rgb": [
         68,
         68,
         68
        ]
       },
       "50f92c45-a630-455b-aec3-788680ec7410": {
        "id": "50f92c45-a630-455b-aec3-788680ec7410",
        "rgb": [
         155,
         177,
         192
        ]
       },
       "c5cc3653-2ee1-402a-aba2-7caae1da4f6c": {
        "id": "c5cc3653-2ee1-402a-aba2-7caae1da4f6c",
        "rgb": [
         43,
         126,
         184
        ]
       },
       "efa7f048-9acb-414c-8b04-a26811511a21": {
        "id": "efa7f048-9acb-414c-8b04-a26811511a21",
        "rgb": [
         25.118061674008803,
         73.60176211453744,
         107.4819383259912
        ]
       }
      },
      "rules": {
       "blockquote": {
        "color": "50f92c45-a630-455b-aec3-788680ec7410"
       },
       "code": {
        "font-family": "Anonymous Pro"
       },
       "h1": {
        "color": "c5cc3653-2ee1-402a-aba2-7caae1da4f6c",
        "font-family": "Lato",
        "font-size": 8
       },
       "h2": {
        "color": "c5cc3653-2ee1-402a-aba2-7caae1da4f6c",
        "font-family": "Lato",
        "font-size": 6
       },
       "h3": {
        "color": "50f92c45-a630-455b-aec3-788680ec7410",
        "font-family": "Lato",
        "font-size": 5.5
       },
       "h4": {
        "color": "c5cc3653-2ee1-402a-aba2-7caae1da4f6c",
        "font-family": "Lato",
        "font-size": 5
       },
       "h5": {
        "font-family": "Lato"
       },
       "h6": {
        "font-family": "Lato"
       },
       "h7": {
        "font-family": "Lato"
       },
       "pre": {
        "font-family": "Anonymous Pro",
        "font-size": 4
       }
      },
      "text-base": {
       "font-family": "Merriweather",
       "font-size": 4
      }
     },
     "857cac3c-9845-463a-82c9-991cb9a5aca1": {
      "backgrounds": {
       "dc7afa04-bf90-40b1-82a5-726e3cff5267": {
        "background-color": "31af15d2-7e15-44c5-ab5e-e04b16a89eff",
        "id": "dc7afa04-bf90-40b1-82a5-726e3cff5267"
       }
      },
      "id": "857cac3c-9845-463a-82c9-991cb9a5aca1",
      "palette": {
       "19cc588f-0593-49c9-9f4b-e4d7cc113b1c": {
        "id": "19cc588f-0593-49c9-9f4b-e4d7cc113b1c",
        "rgb": [
         252,
         252,
         252
        ]
       },
       "31af15d2-7e15-44c5-ab5e-e04b16a89eff": {
        "id": "31af15d2-7e15-44c5-ab5e-e04b16a89eff",
        "rgb": [
         68,
         68,
         68
        ]
       },
       "50f92c45-a630-455b-aec3-788680ec7410": {
        "id": "50f92c45-a630-455b-aec3-788680ec7410",
        "rgb": [
         197,
         226,
         245
        ]
       },
       "c5cc3653-2ee1-402a-aba2-7caae1da4f6c": {
        "id": "c5cc3653-2ee1-402a-aba2-7caae1da4f6c",
        "rgb": [
         43,
         126,
         184
        ]
       },
       "efa7f048-9acb-414c-8b04-a26811511a21": {
        "id": "efa7f048-9acb-414c-8b04-a26811511a21",
        "rgb": [
         25.118061674008803,
         73.60176211453744,
         107.4819383259912
        ]
       }
      },
      "rules": {
       "a": {
        "color": "19cc588f-0593-49c9-9f4b-e4d7cc113b1c"
       },
       "blockquote": {
        "color": "50f92c45-a630-455b-aec3-788680ec7410",
        "font-size": 3
       },
       "code": {
        "font-family": "Anonymous Pro"
       },
       "h1": {
        "color": "19cc588f-0593-49c9-9f4b-e4d7cc113b1c",
        "font-family": "Merriweather",
        "font-size": 8
       },
       "h2": {
        "color": "19cc588f-0593-49c9-9f4b-e4d7cc113b1c",
        "font-family": "Merriweather",
        "font-size": 6
       },
       "h3": {
        "color": "50f92c45-a630-455b-aec3-788680ec7410",
        "font-family": "Lato",
        "font-size": 5.5
       },
       "h4": {
        "color": "c5cc3653-2ee1-402a-aba2-7caae1da4f6c",
        "font-family": "Lato",
        "font-size": 5
       },
       "h5": {
        "font-family": "Lato"
       },
       "h6": {
        "font-family": "Lato"
       },
       "h7": {
        "font-family": "Lato"
       },
       "li": {
        "color": "50f92c45-a630-455b-aec3-788680ec7410",
        "font-size": 3.25
       },
       "pre": {
        "font-family": "Anonymous Pro",
        "font-size": 4
       }
      },
      "text-base": {
       "color": "19cc588f-0593-49c9-9f4b-e4d7cc113b1c",
       "font-family": "Lato",
       "font-size": 4
      }
     }
    }
   }
  }
 },
 "nbformat": 4,
 "nbformat_minor": 1
}
