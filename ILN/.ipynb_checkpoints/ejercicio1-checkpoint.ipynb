{
 "cells": [
  {
   "cell_type": "markdown",
   "metadata": {},
   "source": [
    "# Ejercicio 1: moby dick"
   ]
  },
  {
   "cell_type": "markdown",
   "metadata": {},
   "source": [
    "Analiza el texto Moby Dick de Herman Melville 1851, que está en el corpus gutenberg de nltk.corpus (melville-moby_dick.txt). En concreto, se pide que escribas instrucciones python para:"
   ]
  },
  {
   "cell_type": "markdown",
   "metadata": {},
   "source": [
    "1.- Mostrar el número de frases que tiene."
   ]
  },
  {
   "cell_type": "code",
   "execution_count": 2,
   "metadata": {},
   "outputs": [
    {
     "name": "stdout",
     "output_type": "stream",
     "text": [
      "10059\n"
     ]
    }
   ],
   "source": [
    "import nltk\n",
    "#from nltk.corpus import gutenberg\n",
    "noSents = len(nltk.corpus.gutenberg.sents('melville-moby_dick.txt'))\n",
    "print(noSents)"
   ]
  },
  {
   "cell_type": "markdown",
   "metadata": {},
   "source": [
    "2.- Mostrar el número de palabras que tiene."
   ]
  },
  {
   "cell_type": "code",
   "execution_count": 6,
   "metadata": {},
   "outputs": [
    {
     "name": "stdout",
     "output_type": "stream",
     "text": [
      "260819\n"
     ]
    }
   ],
   "source": [
    "import nltk\n",
    "noWords = len(nltk.corpus.gutenberg.words('melville-moby_dick.txt'))\n",
    "print(noWords)"
   ]
  },
  {
   "cell_type": "markdown",
   "metadata": {},
   "source": [
    "3.- Mostrar el tamaño del vocabulario que utiliza."
   ]
  },
  {
   "cell_type": "code",
   "execution_count": 7,
   "metadata": {},
   "outputs": [
    {
     "name": "stdout",
     "output_type": "stream",
     "text": [
      "17231\n"
     ]
    }
   ],
   "source": [
    "import nltk\n",
    "vocab = len(set(w.lower() for w in nltk.corpus.gutenberg.words('melville-moby_dick.txt')))\n",
    "print(vocab)"
   ]
  },
  {
   "cell_type": "markdown",
   "metadata": {},
   "source": [
    "4.- Listar de forma ordenada las palabras del vocabulario de longitud superior a 15."
   ]
  },
  {
   "cell_type": "code",
   "execution_count": 32,
   "metadata": {
    "scrolled": true
   },
   "outputs": [
    {
     "name": "stdout",
     "output_type": "stream",
     "text": [
      "['apprehensiveness', 'apprehensiveness', 'apprehensiveness', 'apprehensiveness', 'cannibalistically', 'characteristically', 'circumnavigating', 'circumnavigating', 'circumnavigation', 'circumnavigation', 'circumnavigation', 'circumnavigations', 'comprehensiveness', 'comprehensiveness', 'comprehensiveness', 'hermaphroditical', 'indiscriminately', 'indiscriminately', 'indiscriminately', 'indispensableness', 'irresistibleness', 'physiognomically', 'physiognomically', 'physiognomically', 'preternaturalness', 'responsibilities', 'simultaneousness', 'simultaneousness', 'subterraneousness', 'supernaturalness', 'superstitiousness', 'superstitiousness', 'uncomfortableness', 'uncompromisedness', 'undiscriminating', 'uninterpenetratingly']\n"
     ]
    }
   ],
   "source": [
    "import nltk\n",
    "words = []\n",
    "for word in nltk.corpus.gutenberg.words('melville-moby_dick.txt'):\n",
    "    if len(word) > 15:  \n",
    "        words.append(word.lower())\n",
    "print(sorted(words))"
   ]
  },
  {
   "cell_type": "markdown",
   "metadata": {},
   "source": [
    "5.- Mostrar la palabra mas frecuente."
   ]
  },
  {
   "cell_type": "code",
   "execution_count": 38,
   "metadata": {},
   "outputs": [
    {
     "name": "stdout",
     "output_type": "stream",
     "text": [
      ",\n"
     ]
    }
   ],
   "source": [
    "import nltk\n",
    "from nltk.probability import FreqDist\n",
    "fdist = FreqDist(word.lower() for word in gutenberg.words('melville-moby_dick.txt'))\n",
    "print(fdist.max())"
   ]
  },
  {
   "cell_type": "markdown",
   "metadata": {},
   "source": [
    "6.- Mostrar la frecuencia de aparición de la palabra 'but'."
   ]
  },
  {
   "cell_type": "code",
   "execution_count": 41,
   "metadata": {},
   "outputs": [
    {
     "name": "stdout",
     "output_type": "stream",
     "text": [
      "1818\n"
     ]
    }
   ],
   "source": [
    "import nltk\n",
    "from nltk.probability import FreqDist\n",
    "fdist = FreqDist(word.lower() for word in gutenberg.words('melville-moby_dick.txt'))\n",
    "print(fdist['but'])"
   ]
  },
  {
   "cell_type": "markdown",
   "metadata": {},
   "source": [
    "7.- Mostrar cuántas palabras aparecen una sóla vez. "
   ]
  },
  {
   "cell_type": "code",
   "execution_count": 4,
   "metadata": {},
   "outputs": [
    {
     "name": "stdout",
     "output_type": "stream",
     "text": [
      "7567\n"
     ]
    }
   ],
   "source": [
    "import nltk\n",
    "from nltk.probability import FreqDist\n",
    "words = []\n",
    "fdist = FreqDist(word.lower() for word in gutenberg.words('melville-moby_dick.txt'))\n",
    "for x in fdist:\n",
    "    if fdist[x] == 1:\n",
    "        words.append(x)\n",
    "print(len(words))\n",
    "#print(len(fdist.hapaxes()))"
   ]
  },
  {
   "cell_type": "markdown",
   "metadata": {},
   "source": [
    "8.- Listar las 50 palabras más frecuentes junto con sus frecuencias de \n",
    "aparición."
   ]
  },
  {
   "cell_type": "code",
   "execution_count": 33,
   "metadata": {},
   "outputs": [
    {
     "name": "stdout",
     "output_type": "stream",
     "text": [
      "[(',', 18713), ('the', 13721), ('.', 6862), ('of', 6536), ('and', 6024), ('a', 4569), ('to', 4542), (';', 4072), ('in', 3916), ('that', 2982), (\"'\", 2684), ('-', 2552), ('his', 2459), ('it', 2209), ('I', 2124), ('s', 1739), ('is', 1695), ('he', 1661), ('with', 1659), ('was', 1632), ('as', 1620), ('\"', 1478), ('all', 1462), ('for', 1414), ('this', 1280), ('!', 1269), ('at', 1231), ('by', 1137), ('but', 1113), ('not', 1103), ('--', 1070), ('him', 1058), ('from', 1052), ('be', 1030), ('on', 1005), ('so', 918), ('whale', 906), ('one', 889), ('you', 841), ('had', 767), ('have', 760), ('there', 715), ('But', 705), ('or', 697), ('were', 680), ('now', 646), ('which', 640), ('?', 637), ('me', 627), ('like', 624)]\n",
      "... Las 50 palabras más frecuentes\n",
      "FreqDist({',': 18713, 'the': 14431, '.': 6862, 'of': 6609, 'and': 6430, 'a': 4736, 'to': 4625, 'in': 4172, ';': 4072, 'that': 3085, \"'\": 2684, '-': 2552, 'his': 2530, 'it': 2522, 'i': 2127, 'he': 1896, 'but': 1818, 's': 1802, 'as': 1741, 'is': 1725, 'with': 1722, 'was': 1644, 'for': 1617, 'all': 1526, '\"': 1478, 'this': 1394, 'at': 1319, '!': 1269, 'whale': 1226, 'by': 1204, 'not': 1151, 'from': 1088, '--': 1070, 'him': 1067, 'so': 1065, 'on': 1062, 'be': 1045, 'one': 921, 'you': 894, 'there': 869, 'now': 785, 'had': 779, 'have': 768, 'or': 713, 'were': 684, 'they': 667, 'which': 648, 'like': 647, '?': 637, 'me': 633, ...})\n"
     ]
    }
   ],
   "source": [
    "from collections import Counter\n",
    "split_it = gutenberg.words('melville-moby_dick.txt')\n",
    "Counter = Counter(split_it)\n",
    "most_occur = Counter.most_common(50) \n",
    "print(most_occur)\n",
    "\n",
    "from nltk.corpus import gutenberg\n",
    "from nltk.probability import FreqDist\n",
    "fdist = FreqDist(word.lower() for word in gutenberg.words('melville-moby_dick.txt'))\n",
    "print(\"... 2º manera\")\n",
    "fdist.pprint(50)\n"
   ]
  },
  {
   "cell_type": "markdown",
   "metadata": {},
   "source": [
    "9.- Representar gráficamente la frecuencia de aparición de las 20 palabras más frecuentes."
   ]
  },
  {
   "cell_type": "code",
   "execution_count": 25,
   "metadata": {},
   "outputs": [
    {
     "data": {
      "image/png": "[encoded data removed]",
      "text/plain": [
       "<Figure size 432x288 with 1 Axes>"
      ]
     },
     "metadata": {
      "needs_background": "light"
     },
     "output_type": "display_data"
    },
    {
     "data": {
      "text/plain": [
       "<matplotlib.axes._subplots.AxesSubplot at 0x2213a66f088>"
      ]
     },
     "execution_count": 25,
     "metadata": {},
     "output_type": "execute_result"
    }
   ],
   "source": [
    "import matplotlib\n",
    "from nltk.corpus import gutenberg\n",
    "from nltk.probability import FreqDist\n",
    "fdist = FreqDist(word.lower() for word in gutenberg.words('melville-moby_dick.txt'))\n",
    "fdist.plot(20)"
   ]
  },
  {
   "cell_type": "markdown",
   "metadata": {},
   "source": [
    "10.- Representar gráficamente la frecuencia de aparición de las 20 palabras más frecuentes que no sean signos de puntuación."
   ]
  },
  {
   "cell_type": "code",
   "execution_count": 24,
   "metadata": {},
   "outputs": [
    {
     "data": {
      "image/png": "[encoded data removed]",
      "text/plain": [
       "<Figure size 432x288 with 1 Axes>"
      ]
     },
     "metadata": {
      "needs_background": "light"
     },
     "output_type": "display_data"
    },
    {
     "data": {
      "text/plain": [
       "<matplotlib.axes._subplots.AxesSubplot at 0x2213983b548>"
      ]
     },
     "execution_count": 24,
     "metadata": {},
     "output_type": "execute_result"
    }
   ],
   "source": [
    "import matplotlib\n",
    "from nltk.corpus import gutenberg\n",
    "from nltk.probability import FreqDist\n",
    "fdist = FreqDist(word.lower() for word in gutenberg.words('melville-moby_dick.txt') if word.isalnum())\n",
    "fdist.plot(20)"
   ]
  }
 ],
 "metadata": {
  "anaconda-cloud": {},
  "kernelspec": {
   "display_name": "Python 3",
   "language": "python",
   "name": "python3"
  },
  "language_info": {
   "codemirror_mode": {
    "name": "ipython",
    "version": 3
   },
   "file_extension": ".py",
   "mimetype": "text/x-python",
   "name": "python",
   "nbconvert_exporter": "python",
   "pygments_lexer": "ipython3",
   "version": "3.7.4"
  }
 },
 "nbformat": 4,
 "nbformat_minor": 1
}
