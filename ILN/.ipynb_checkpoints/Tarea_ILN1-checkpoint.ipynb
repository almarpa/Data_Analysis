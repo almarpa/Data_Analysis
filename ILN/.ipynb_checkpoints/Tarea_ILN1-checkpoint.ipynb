{
 "cells": [
  {
   "cell_type": "markdown",
   "metadata": {},
   "source": [
    "# ILN1: Índices de legibilidad de los textos del corpus Brown "
   ]
  },
  {
   "cell_type": "raw",
   "metadata": {},
   "source": [
    "Para medir la dificultad de lectura de un texto se definen ciertas medidas de legibilidad; de este modo se pueden seleccionar los textos más adecuados según el nivel de conocimiento de la lengua que tenga el lector.\n",
    "\n",
    "Sea nlpw el número medio de letras por palabras y npxf el número medio de palabras por frase de un texto; suponiendo definido el Índice Automático de Legibilidad IAL del texto como:\n",
    "\n",
    "IAL = 4.71 * nlpw + 0.5 * npxf - 21.43\n",
    "\n",
    "Se pide escribir un programa python para calcular el valor de IAL para las diferentes secciones, o categorías, del Corpus Brown y mostrar una tabla en la que figuren todas las categorías y sus IALs."
   ]
  },
  {
   "cell_type": "raw",
   "metadata": {},
   "source": [
    "Escribe el código python y ejecútalo:"
   ]
  },
  {
   "cell_type": "code",
   "execution_count": 24,
   "metadata": {},
   "outputs": [
    {
     "name": "stdout",
     "output_type": "stream",
     "text": [
      "   IAL       Category\n"
     ]
    },
    {
     "ename": "TypeError",
     "evalue": "must be real number, not str",
     "output_type": "error",
     "traceback": [
      "\u001b[1;31m---------------------------------------------------------------------------\u001b[0m",
      "\u001b[1;31mTypeError\u001b[0m                                 Traceback (most recent call last)",
      "\u001b[1;32m<ipython-input-24-93822cc729f9>\u001b[0m in \u001b[0;36m<module>\u001b[1;34m\u001b[0m\n\u001b[0;32m     21\u001b[0m \u001b[1;33m\u001b[0m\u001b[0m\n\u001b[0;32m     22\u001b[0m     \u001b[0mIAL\u001b[0m \u001b[1;33m=\u001b[0m \u001b[1;36m4.71\u001b[0m \u001b[1;33m*\u001b[0m \u001b[0mnlpw\u001b[0m \u001b[1;33m+\u001b[0m \u001b[1;36m0.5\u001b[0m \u001b[1;33m*\u001b[0m \u001b[0mnpxf\u001b[0m \u001b[1;33m-\u001b[0m \u001b[1;36m21.43\u001b[0m\u001b[1;33m\u001b[0m\u001b[1;33m\u001b[0m\u001b[0m\n\u001b[1;32m---> 23\u001b[1;33m     \u001b[0mprint\u001b[0m\u001b[1;33m(\u001b[0m\u001b[1;34m\"%3f    %s\"\u001b[0m \u001b[1;33m%\u001b[0m\u001b[1;33m(\u001b[0m\u001b[0mcategory\u001b[0m\u001b[1;33m,\u001b[0m\u001b[0mIAL\u001b[0m\u001b[1;33m)\u001b[0m\u001b[1;33m)\u001b[0m\u001b[1;33m\u001b[0m\u001b[1;33m\u001b[0m\u001b[0m\n\u001b[0m\u001b[0;32m     24\u001b[0m \u001b[1;33m\u001b[0m\u001b[0m\n",
      "\u001b[1;31mTypeError\u001b[0m: must be real number, not str"
     ]
    }
   ],
   "source": [
    "import nltk\n",
    "from nltk.corpus import brown\n",
    "from nltk.tokenize import word_tokenize\n",
    "\n",
    "print(\"%s    %s\" %(\"   IAL\", \"   Category\"))\n",
    "for category in nltk.corpus.brown.categories():\n",
    "    \n",
    "    #num letras x palabra\n",
    "    length = 0\n",
    "    words = nltk.corpus.brown.words(categories = category)\n",
    "    for word in words:\n",
    "        length += len(word)\n",
    "    nlpw = length/len(words)\n",
    "\n",
    "    #num palabras x frase\n",
    "    length_sents = 0\n",
    "    sents = nltk.corpus.brown.sents(categories = category)\n",
    "    for line in sents:\n",
    "        length_sents += len(line)\n",
    "    npxf = length_sents/len(sents)\n",
    "\n",
    "    IAL = 4.71 * nlpw + 0.5 * npxf - 21.43\n",
    "    print(\"%3f    %s\" %(IAL,category))\n",
    "\n"
   ]
  }
 ],
 "metadata": {
  "kernelspec": {
   "display_name": "Python 3",
   "language": "python",
   "name": "python3"
  },
  "language_info": {
   "codemirror_mode": {
    "name": "ipython",
    "version": 3
   },
   "file_extension": ".py",
   "mimetype": "text/x-python",
   "name": "python",
   "nbconvert_exporter": "python",
   "pygments_lexer": "ipython3",
   "version": "3.7.4"
  }
 },
 "nbformat": 4,
 "nbformat_minor": 1
}
