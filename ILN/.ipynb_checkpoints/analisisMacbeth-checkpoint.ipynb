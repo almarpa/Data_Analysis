{
 "cells": [
  {
   "cell_type": "markdown",
   "metadata": {},
   "source": [
    "# Ejemplo: análisis de Macbeth"
   ]
  },
  {
   "cell_type": "markdown",
   "metadata": {},
   "source": [
    "Analiza el texto Macbeth de Shakespeare, que está en el corpus gutenberg de nltk.corpus (shakespeare-macbeth.txt). A continuación se escriben instrucciones python para:"
   ]
  },
  {
   "cell_type": "markdown",
   "metadata": {},
   "source": [
    "1.- Listar los ficheros del corpus gutenberg"
   ]
  },
  {
   "cell_type": "code",
   "execution_count": null,
   "metadata": {
    "collapsed": false
   },
   "outputs": [],
   "source": [
    "import nltk\n",
    "#print(nltk.corpus.gutenberg.readme())\n",
    "print(\"... Ficheros del corpus gutenberg:\")\n",
    "for fileid in (nltk.corpus.gutenberg.fileids()):\n",
    "    print(fileid)"
   ]
  },
  {
   "cell_type": "markdown",
   "metadata": {},
   "source": [
    "2.- Función que lista, para el corpus que se indica, las longitudes medias de sus palabras y frases y la frecuencia de uso media de cada palabra (diversidad léxica)"
   ]
  },
  {
   "cell_type": "code",
   "execution_count": null,
   "metadata": {
    "collapsed": true
   },
   "outputs": [],
   "source": [
    "def getCorpusInfo(corpus):\n",
    "    print(\"... Mostrando información de los ficheros del corpus \", corpus)\n",
    "    print(\"%s %s %s %s\" %(\"lmWord\", \"lmSent\", \"divLex\", \"texto\"))\n",
    "    for fileid in corpus.fileids():\n",
    "        noCars = len(corpus.raw(fileid))\n",
    "        noWords = len(corpus.words(fileid))\n",
    "        noSents = len(corpus.sents(fileid))\n",
    "        vocab = len(set(w.lower() for w in corpus.words(fileid)))\n",
    "        lmWord = round(noCars / noWords)\n",
    "        lmSent = round(noWords / noSents)\n",
    "        lds = round(noWords / vocab)\n",
    "        print(\"%4d %6d %6d   %s\" %(lmWord, lmSent, lds, fileid))"
   ]
  },
  {
   "cell_type": "markdown",
   "metadata": {},
   "source": [
    "3.- Utilizar la función anterior para obtener información sobre el corpus gutenberg"
   ]
  },
  {
   "cell_type": "code",
   "execution_count": null,
   "metadata": {
    "collapsed": false
   },
   "outputs": [],
   "source": [
    "getCorpusInfo(nltk.corpus.gutenberg)"
   ]
  },
  {
   "cell_type": "markdown",
   "metadata": {},
   "source": [
    "4.- Obtener las frecuencias de aparición de las palabras del texto"
   ]
  },
  {
   "cell_type": "code",
   "execution_count": null,
   "metadata": {
    "collapsed": false
   },
   "outputs": [],
   "source": [
    "from nltk.corpus import gutenberg\n",
    "from nltk.probability import FreqDist\n",
    "fdist = FreqDist(word.lower() for word in gutenberg.words('shakespeare-macbeth.txt'))"
   ]
  },
  {
   "cell_type": "markdown",
   "metadata": {},
   "source": [
    "5.- Mostrar la palabra mas frecuente y su probabilidad."
   ]
  },
  {
   "cell_type": "code",
   "execution_count": null,
   "metadata": {
    "collapsed": false
   },
   "outputs": [],
   "source": [
    "print(\"... La palabra más frecuente es: \", fdist.max())\n",
    "print(\"... y su probabilidad es: \", fdist.freq(fdist.max()))"
   ]
  },
  {
   "cell_type": "raw",
   "metadata": {},
   "source": [
    "6.- Mostrar las 20 palabras más frecuentes."
   ]
  },
  {
   "cell_type": "code",
   "execution_count": null,
   "metadata": {
    "collapsed": false
   },
   "outputs": [],
   "source": [
    "print(\"... Las 20 palabras más frecuentes en Macbeth son:\")\n",
    "fdist.pprint(20)"
   ]
  },
  {
   "cell_type": "raw",
   "metadata": {},
   "source": [
    "7.- Mostrar las frecuencias de aparición y probabilidades de las palabras siguientes:\n",
    "'Duncan':  rey de Escocia\n",
    "'Macbeth' y 'Banquo': generales del ejercito escocés"
   ]
  },
  {
   "cell_type": "code",
   "execution_count": null,
   "metadata": {
    "collapsed": false
   },
   "outputs": [],
   "source": [
    "print(\"... duncan aparece %d veces\" % (fdist['duncan']))\n",
    "print(\"... macbeth aparece %d veces\" % (fdist['macbeth']))\n",
    "print(\"... banquo aparece %d veces\" % (fdist['banquo']))"
   ]
  },
  {
   "cell_type": "raw",
   "metadata": {},
   "source": [
    "8.- Mostrar el tamaño del léxico utilizado."
   ]
  },
  {
   "cell_type": "code",
   "execution_count": null,
   "metadata": {
    "collapsed": false
   },
   "outputs": [],
   "source": [
    "vocab = fdist.keys()\n",
    "print(\"... El tamaño del léxico de Macbeth es: \", len(vocab))"
   ]
  },
  {
   "cell_type": "raw",
   "metadata": {},
   "source": [
    "9.- Mostrar cuántas palabras aparecen una sóla vez. "
   ]
  },
  {
   "cell_type": "code",
   "execution_count": null,
   "metadata": {
    "collapsed": false
   },
   "outputs": [],
   "source": [
    "raras = fdist.hapaxes()\n",
    "print(\"... El número de palabras que aparecen una sola vez es: \", len(raras))"
   ]
  },
  {
   "cell_type": "raw",
   "metadata": {},
   "source": [
    "10.- De las palabras que aparecen una sóla vez, listar 50"
   ]
  },
  {
   "cell_type": "code",
   "execution_count": null,
   "metadata": {
    "collapsed": false
   },
   "outputs": [],
   "source": [
    "print(\"... Algunas de ellas son:\")\n",
    "print(raras[:50])"
   ]
  }
 ],
 "metadata": {
  "anaconda-cloud": {},
  "kernelspec": {
   "display_name": "Python [default]",
   "language": "python",
   "name": "python3"
  },
  "language_info": {
   "codemirror_mode": {
    "name": "ipython",
    "version": 3
   },
   "file_extension": ".py",
   "mimetype": "text/x-python",
   "name": "python",
   "nbconvert_exporter": "python",
   "pygments_lexer": "ipython3",
   "version": "3.5.2"
  }
 },
 "nbformat": 4,
 "nbformat_minor": 1
}
