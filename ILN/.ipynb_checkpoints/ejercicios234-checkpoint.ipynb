{
 "cells": [
  {
   "cell_type": "markdown",
   "metadata": {},
   "source": [
    "# Ejercicios 2, 3 y 4:"
   ]
  },
  {
   "cell_type": "markdown",
   "metadata": {},
   "source": [
    "Ejercicio 2: Analiza el texto con la letra de la canción Heroes de David Bowie de 1977 (BowieHeroes.txt) para obtener una representación gráfica del vocabulario utilizado y la frecuencia de aparición de cada palabra. No se deben tener en cuenta símbolos de puntuación ni stopwords."
   ]
  },
  {
   "cell_type": "code",
   "execution_count": 29,
   "metadata": {},
   "outputs": [
    {
     "name": "stderr",
     "output_type": "stream",
     "text": [
      "[nltk_data] Downloading package stopwords to\n",
      "[nltk_data]     C:\\Users\\alex_\\AppData\\Roaming\\nltk_data...\n",
      "[nltk_data]   Unzipping corpora\\stopwords.zip.\n"
     ]
    },
    {
     "data": {
      "text/plain": [
       "True"
      ]
     },
     "execution_count": 29,
     "metadata": {},
     "output_type": "execute_result"
    }
   ],
   "source": []
  },
  {
   "cell_type": "code",
   "execution_count": 6,
   "metadata": {},
   "outputs": [
    {
     "name": "stdout",
     "output_type": "stream",
     "text": [
      "['I', ',', 'I', 'wish', 'you', 'could', 'swim', 'Like', 'the', 'dolphins', ',', 'like', 'dolphins', 'can', 'swim', 'Though', 'nothing', ',', 'nothing', 'will', 'keep', 'us', 'together', 'We', 'can', 'beat', 'them', ',', 'for', 'ever', 'and', 'ever', 'Oh', 'we', 'can', 'be', 'heroes', ',', 'just', 'for', 'one', 'day', 'I', ',', 'I', 'will', 'be', 'king', 'And', 'you', ',', 'you', 'will', 'be', 'queen', 'Though', 'nothing', 'will', 'drive', 'them', 'away', 'We', 'can', 'be', 'heroes', ',', 'just', 'for', 'one', 'day', 'We', 'can', 'be', 'us', ',', 'just', 'for', 'one', 'day', 'I', ',', 'I', 'can', 'remember', '(', 'I', 'remember', ')', 'Standing', ',', 'by', 'the', 'wall', '(', 'by', 'the', 'wall', ')', 'And', 'the', 'guns', ',', 'shot', 'above', 'our', 'heads', '(', 'over', 'our', 'heads', ')', 'And', 'we', 'kissed', ',', 'as', 'though', 'nothing', 'could', 'fall', '(', 'nothing', 'could', 'fall', ')', 'And', 'the', 'shame', ',', 'was', 'on', 'the', 'other', 'side', 'Oh', ',', 'we', 'can', 'beat', 'them', ',', 'for', 'ever', 'and', 'ever', 'Then', 'we', 'could', 'be', 'heroes', ',', 'just', 'for', 'one', 'day', 'We', 'can', 'be', 'heroes', 'We', 'can', 'be', 'heroes', 'We', 'can', 'be', 'heroes', 'Just', 'for', 'one', 'day', 'We', 'can', 'be', 'heroes']\n"
     ]
    },
    {
     "data": {
      "image/png": "[encoded data removed]",
      "text/plain": [
       "<Figure size 432x288 with 1 Axes>"
      ]
     },
     "metadata": {
      "needs_background": "light"
     },
     "output_type": "display_data"
    },
    {
     "data": {
      "text/plain": [
       "<matplotlib.axes._subplots.AxesSubplot at 0x2c0006d3908>"
      ]
     },
     "execution_count": 6,
     "metadata": {},
     "output_type": "execute_result"
    }
   ],
   "source": [
    "import nltk\n",
    "import matplotlib\n",
    "\n",
    "from nltk.tokenize import word_tokenize \n",
    "from nltk.corpus import stopwords\n",
    "from nltk.corpus import gutenberg\n",
    "from nltk.probability import FreqDist\n",
    "\n",
    "f = open(\"BowieHeroes.txt\",'r')\n",
    "res = []\n",
    "for line in f:\n",
    "    res += word_tokenize(line)\n",
    "print(res)\n",
    "stop_words = set(stopwords.words('english')) \n",
    "fdist = FreqDist(word.lower() for word in res if word.isalnum() and word not in stop_words)\n",
    "fdist.plot(len(fdist))\n",
    "\n",
    "\n",
    "\n"
   ]
  },
  {
   "cell_type": "markdown",
   "metadata": {},
   "source": [
    "Ejercicio 3: Define una función para detectar palabras raras o poco frecuentes en un texto (en inglés).\n",
    "\t1. Obtener el vocabulario utilizado en el texto: palabras en minúsculas (w.isalpha)\n",
    "\t2. Obtener el conjunto de palabras del corpus nltk.corpus.words también en minúsculas (words())\n",
    "\t3. Quedarse con las palabras del primer conjunto que no estén en el segundo (difference)\n",
    "\t4. Devolver este conjunto ordenado \n",
    "\n",
    "Utiliza esta función para obtener el listado de palabras raras o poco frecuentes de los siguientes textos: BowieLetsDance.txt, nltk.corpus.nps_chat y 'shakespeare-macbeth.txt' de nltk.corpus.gutenberg."
   ]
  },
  {
   "cell_type": "code",
   "execution_count": 5,
   "metadata": {},
   "outputs": [
    {
     "name": "stdout",
     "output_type": "stream",
     "text": [
      "Printing BowieLetsDance.txt\n",
      "['While', 'colour', 'lights', 'face', 'Sway', 'crowd', 'empty', 'space', 'run,', \"I'll\", 'run', 'hide,', \"we'll\", 'hide', 'Because', 'love', 'Would', 'break', 'heart', 'two', 'Into', 'arms', 'And', 'tremble', 'like', 'flower', 'grace', 'tonight', 'David', 'Bowie', 'Put', 'red', 'shoes', 'blues', 'To', 'song', \"they're\", \"playin'\", 'radio', 'say']\n",
      "\n",
      "Printing nltk.corpus.nps_chat\n",
      "<generator object <genexpr> at 0x0000021AADADA348>\n",
      "[True, False]\n",
      "\n",
      "Printing shakespeare-macbeth.txt\n",
      "['william', 'shakespeare', '1603', 'primus', 'scoena', 'raine', 'hurley', 'burley', 'battaile', 'gray', 'malkin', 'padock', 'houer', 'fogge', 'malcome', 'captaine', 'seemeth', 'plight', 'serieant', 'hardie', 'captiuitie', 'broyle', 'swimmers', 'choake', 'mercilesse', 'macdonwald', 'worthie', 'multiplying', 'villanies', 'swarme', 'westerne', 'isles', 'gallowgrosses', 'supply', 'smiling', 'rebells', 'whore', 'disdayning', 'brandisht', 'smoak']\n"
     ]
    }
   ],
   "source": [
    "from nltk.corpus import nps_chat\n",
    "from collections import Counter\n",
    "from nltk.corpus import stopwords\n",
    "from nltk.corpus import gutenberg\n",
    "\n",
    "def less_common(words, number_of_words):\n",
    "    counter = Counter(words)\n",
    "    return sorted(counter, key = counter.get, reverse=False)[:number_of_words]\n",
    "\n",
    "print(\"Printing BowieLetsDance.txt\")\n",
    "f = open(\"BowieLetsDance.txt\",'r')\n",
    "#Splitting\n",
    "res = []\n",
    "for line in f:\n",
    "    res += line.split()\n",
    "stop_words = set(stopwords.words('english'))\n",
    "res = [word for word in res if word not in stop_words]\n",
    "result = less_common(res, 40)\n",
    "print(result)\n",
    "print()\n",
    "\n",
    "print(\"Printing nltk.corpus.nps_chat\")\n",
    "filter_nps_chat = (word.lower().startswith(\"c\") for word in nps_chat.words())\n",
    "res = []\n",
    "for i in filter_nps_chat:\n",
    "    if i.startswith(\"c\"):\n",
    "        res.append(i)        \n",
    "res = less_common(filter_nps_chat, 5)\n",
    "print(res)\n",
    "\n",
    "print(\"Printing shakespeare-macbeth.txt\")\n",
    "filter_macbeth = (word.lower() for word in gutenberg.words('shakespeare-macbeth.txt') if word.isalnum())\n",
    "res = less_common(filter_macbeth, 40)\n",
    "print(res)"
   ]
  },
  {
   "cell_type": "markdown",
   "metadata": {},
   "source": [
    "Ejercicio 4: Analiza el texto Moby Dick de Herman Melville 1851, que está en el corpus gutenberg (melville-moby_dyck.txt), utilizando tokenizer, stopwords y stemmer y sin considerar simbolos de puntuación. En concreto:\n",
    "¿Cuántas palabras que no sean signos de puntuación ni stopwords tiene?\n",
    "¿Cuál es el stem mas frecuente?\n",
    "¿Cuántos stems aparecen una sola vez?\n",
    "¿Cuáles son los 50 stems más frecuentes y cuál es su frecuencia? Represéntalas gráficamente"
   ]
  },
  {
   "cell_type": "code",
   "execution_count": null,
   "metadata": {},
   "outputs": [],
   "source": [
    "# importing modules \n",
    "from nltk.stem import PorterStemmer \n",
    "from nltk.tokenize import word_tokenize \n",
    "from nltk.corpus import stopwords\n",
    "from nltk.corpus import gutenberg\n",
    "from nltk.probability import FreqDist  \n",
    "from collections import Counter\n",
    "\n",
    "\n",
    "print(\"¿Cuantas palabras que no sean signos de puntuacion ni stopwords tiene?\")       \n",
    "stop_words = set(stopwords.words('english'))\n",
    "total_words = gutenberg.words('melville-moby_dick.txt')\n",
    "filtered_words = []\n",
    "for i in total_words:\n",
    "    if i not in stop_words and i.isalnum():\n",
    "        filtered_words.append(i)\n",
    "print(len(filtered_words))\n",
    "\n",
    "#Cual es el steam más frecuente?\n",
    "porter = PorterStemmer()\n",
    "stem_sentence=[]\n",
    "for word in filtered_words: \n",
    "    word = word.lower() #no se si es necesario\n",
    "    stem_sentence.append(porter.stem(word))\n",
    "    stem_sentence.append(\" \")\n",
    "counter = Counter(stem_sentence)\n",
    "print(counter.most_common(2))\n",
    "\n",
    "print(\"Cuantos steams aparecen una sola vez?\")\n",
    "total = 0;\n",
    "for number in counter.values():\n",
    "    if number == 1:\n",
    "        total = total + 1\n",
    "print(total)\n",
    "        \n",
    "print(\"¿Cuales son los 50 stems mas frecuentes y cual es su frecuencia? Representalas graficamente.\")\n",
    "fdist = FreqDist(word.lower() for word in stem_sentence)\n",
    "fdist.plot(len(fdist))\n",
    "\n",
    "sentence = \"to be or not to be bike\"   \n",
    "stop_words = set(stopwords.words('english'))\n",
    "res = []\n",
    "for word in sentence not in stop_words:\n",
    "    res.append(word)\n",
    "print(\"as\")"
   ]
  },
  {
   "cell_type": "code",
   "execution_count": null,
   "metadata": {},
   "outputs": [],
   "source": []
  }
 ],
 "metadata": {
  "anaconda-cloud": {},
  "kernelspec": {
   "display_name": "Python 3",
   "language": "python",
   "name": "python3"
  },
  "language_info": {
   "codemirror_mode": {
    "name": "ipython",
    "version": 3
   },
   "file_extension": ".py",
   "mimetype": "text/x-python",
   "name": "python",
   "nbconvert_exporter": "python",
   "pygments_lexer": "ipython3",
   "version": "3.7.4"
  }
 },
 "nbformat": 4,
 "nbformat_minor": 1
}
