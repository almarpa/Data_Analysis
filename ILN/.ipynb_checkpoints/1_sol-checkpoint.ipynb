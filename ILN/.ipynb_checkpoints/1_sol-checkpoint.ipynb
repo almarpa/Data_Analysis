{
 "cells": [
  {
   "cell_type": "markdown",
   "metadata": {},
   "source": [
    "# Ejercicio 1: moby dick (i)"
   ]
  },
  {
   "cell_type": "markdown",
   "metadata": {},
   "source": [
    "Analiza el texto Moby Dick de Herman Melville 1851, que está en el corpus gutenberg de nltk.corpus (melville-moby_dyck.txt). En concreto, se pide que escribas instrucciones python para:"
   ]
  },
  {
   "cell_type": "markdown",
   "metadata": {},
   "source": [
    "1.- Mostrar el número de frases que tiene."
   ]
  },
  {
   "cell_type": "code",
   "execution_count": null,
   "metadata": {
    "collapsed": false
   },
   "outputs": [],
   "source": [
    "from nltk.corpus import gutenberg\n",
    "frases = gutenberg.sents('melville-moby_dick.txt')\n",
    "print(\"No de frases = \", len(frases))"
   ]
  },
  {
   "cell_type": "markdown",
   "metadata": {},
   "source": [
    "2.- Mostrar el número de palabras que tiene."
   ]
  },
  {
   "cell_type": "code",
   "execution_count": null,
   "metadata": {
    "collapsed": false
   },
   "outputs": [],
   "source": [
    "words = gutenberg.words('melville-moby_dick.txt')\n",
    "print(\"No de palabras = \", len(words))"
   ]
  },
  {
   "cell_type": "raw",
   "metadata": {},
   "source": [
    "3.- Mostrar el tamaño del vocabulario que utiliza."
   ]
  },
  {
   "cell_type": "code",
   "execution_count": null,
   "metadata": {
    "collapsed": false
   },
   "outputs": [],
   "source": [
    "vocab = set(word.lower() for word in words)\n",
    "print(\"No de palabras distintas = \", len(vocab))"
   ]
  },
  {
   "cell_type": "raw",
   "metadata": {},
   "source": [
    "4.- Listar de forma ordenada las palabras del vocabulario de longitud superior a 15."
   ]
  },
  {
   "cell_type": "code",
   "execution_count": null,
   "metadata": {
    "collapsed": false
   },
   "outputs": [],
   "source": [
    "long_words = [w for w in vocab if len(w) > 15]\n",
    "print(sorted(long_words))"
   ]
  },
  {
   "cell_type": "raw",
   "metadata": {},
   "source": [
    "5.- Mostrar la palabra mas frecuente."
   ]
  },
  {
   "cell_type": "code",
   "execution_count": null,
   "metadata": {
    "collapsed": false
   },
   "outputs": [],
   "source": [
    "from nltk.probability import FreqDist\n",
    "fdist = FreqDist(word.lower() for word in words)\n",
    "print(\"Palabra mas frecuente = \", fdist.max())"
   ]
  },
  {
   "cell_type": "raw",
   "metadata": {},
   "source": [
    "6.- Mostrar la frecuencia de aparición de la palabra 'but'."
   ]
  },
  {
   "cell_type": "code",
   "execution_count": null,
   "metadata": {
    "collapsed": false
   },
   "outputs": [],
   "source": [
    "print(\"Frecuencia de but = \", fdist['but'])"
   ]
  },
  {
   "cell_type": "raw",
   "metadata": {},
   "source": [
    "7.- Mostrar cuántas palabras aparecen una sóla vez. "
   ]
  },
  {
   "cell_type": "code",
   "execution_count": null,
   "metadata": {
    "collapsed": false
   },
   "outputs": [],
   "source": [
    "print(\"Numero de palabras que aparecen una sola vez = \", len(fdist.hapaxes()))"
   ]
  },
  {
   "cell_type": "raw",
   "metadata": {},
   "source": [
    "8.- Listar las 50 palabras más frecuentes junto con sus frecuencias de aparición."
   ]
  },
  {
   "cell_type": "code",
   "execution_count": null,
   "metadata": {
    "collapsed": false
   },
   "outputs": [],
   "source": [
    "print(\"Listado de las 50 palabras más comunes y sus frecuencias\")\n",
    "print(fdist.most_common(50)) # fdist.pprint(50)"
   ]
  },
  {
   "cell_type": "raw",
   "metadata": {},
   "source": [
    "9.- Representar gráficamente la frecuencia de aparición de las 20 palabras más frecuentes."
   ]
  },
  {
   "cell_type": "code",
   "execution_count": null,
   "metadata": {
    "collapsed": false
   },
   "outputs": [],
   "source": [
    "fdist.plot(20)"
   ]
  },
  {
   "cell_type": "raw",
   "metadata": {},
   "source": [
    "10.- Representar gráficamente la frecuencia de aparición de las 20 palabras más frecuentes que no sean signos de puntuación."
   ]
  },
  {
   "cell_type": "code",
   "execution_count": null,
   "metadata": {
    "collapsed": false
   },
   "outputs": [],
   "source": [
    "punt = ['(', ')', ',', '.', ':','[',']','-','--',';','!','?','\\\"','\\'','\\`','\\'\\'', '``']\n",
    "wordsSinSP = []\n",
    "for word in words:\n",
    "    if word not in punt:\n",
    "        wordsSinSP.append(word)\n",
    "fdistSinSP = FreqDist(word.lower() for word in wordsSinSP)\n",
    "fdistSinSP.plot(20)"
   ]
  }
 ],
 "metadata": {
  "anaconda-cloud": {},
  "kernelspec": {
   "display_name": "Python [default]",
   "language": "python",
   "name": "python3"
  },
  "language_info": {
   "codemirror_mode": {
    "name": "ipython",
    "version": 3
   },
   "file_extension": ".py",
   "mimetype": "text/x-python",
   "name": "python",
   "nbconvert_exporter": "python",
   "pygments_lexer": "ipython3",
   "version": "3.5.2"
  }
 },
 "nbformat": 4,
 "nbformat_minor": 1
}
