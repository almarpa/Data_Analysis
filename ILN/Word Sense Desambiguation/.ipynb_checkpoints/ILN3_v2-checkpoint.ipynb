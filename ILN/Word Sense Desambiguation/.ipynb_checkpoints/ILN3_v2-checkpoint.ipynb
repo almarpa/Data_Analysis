{
 "cells": [
  {
   "cell_type": "markdown",
   "metadata": {},
   "source": [
    "# ILN3: WSD. El Algoritmo de Lesk"
   ]
  },
  {
   "cell_type": "raw",
   "metadata": {},
   "source": [
    "Se trata de definir y usar una función que, dada una frase y utilizando el algoritmo de Lesk, desambigüe cada una de sus palabras con contenido. La signatura se construirá considerando la definición y los ejemplos de cada synset."
   ]
  },
  {
   "cell_type": "raw",
   "metadata": {},
   "source": [
    "1.- Definir la función wsd que dada una frase y usando el algoritmo de Lesk muestre por pantalla el resultado de la desambiguación de cada una de sus palabras. \n",
    "Para ello, para cada palabra de la frase w y para cada sentido syn de w, sin considerar las stopwords, se debe computar el\n",
    "solapamiento, es decir, el número de palabras en común entre la definición y ejemplos del sentido syn y la frase. El syn que maximice este solapamiento será el asignado a la palabra w."
   ]
  },
  {
   "cell_type": "code",
   "execution_count": 3,
   "metadata": {
    "scrolled": true
   },
   "outputs": [
    {
     "name": "stderr",
     "output_type": "stream",
     "text": [
      "[nltk_data] Downloading package wordnet to\n",
      "[nltk_data]     C:\\Users\\alex_\\AppData\\Roaming\\nltk_data...\n",
      "[nltk_data]   Package wordnet is already up-to-date!\n"
     ]
    }
   ],
   "source": [
    "import nltk\n",
    "nltk.download('wordnet')\n",
    "\n",
    "from nltk.tokenize import word_tokenize\n",
    "from nltk.corpus import stopwords\n",
    "from nltk.corpus import wordnet as wordnet\n"
   ]
  },
  {
   "cell_type": "code",
   "execution_count": 9,
   "metadata": {},
   "outputs": [],
   "source": [
    "def wsdFun(frase):\n",
    "    english_stops = set(stopwords.words('english'))\n",
    "    words = word_tokenize(frase)\n",
    "    for word in words:\n",
    "        word = word.lower()\n",
    "        #filtro las palabras\n",
    "        if word.isalpha() and word not in english_stops:\n",
    "               \n",
    "            solapeFinal = 0\n",
    "            sentido=\"\"\n",
    "            synsets = wordnet.synsets(word)\n",
    "            \n",
    "            #recorro los synsets\n",
    "            for synset in synsets:\n",
    "                solapeTemp = 0\n",
    "                defs_tokenized = []\n",
    "                \n",
    "                #recorro las definiciones y me quedo con las que pasen el filtro\n",
    "                for definicion in synset.definition():\n",
    "                    for token in word_tokenize(definicion):\n",
    "                        if token.lower().isalpha() and token.lower() not in english_stops:\n",
    "                            defs_tokenized.append(token.lower())\n",
    "                            #print(token)\n",
    "                \n",
    "                #recorro los ejemplos y me quedo con las que pasen el filtro\n",
    "                for example in synset.examples():\n",
    "                    for token in word_tokenize(example):\n",
    "                        if token.lower().isalpha() and token.lower() not in english_stops:\n",
    "                            defs_tokenized.append(token.lower())\n",
    "                            #print(token)\n",
    "                \n",
    "                #cuento la cantidad de apariciones de la palabra \n",
    "                count=defs_tokenized.count(word)   \n",
    "                \n",
    "                solapeTemp+=count\n",
    "                \n",
    "                #verifico si es la que tiene mayor solape, en ese caso me guardo el solape y el sentido\n",
    "                if solapeTemp > solapeFinal:\n",
    "                    solapeFinal=solapeTemp\n",
    "                    sentido=synset\n",
    "                    \n",
    "            print(\"...Analizando: \"+word+\" ( \"+str(len(synsets))+\" sentidos)-->\"+str(sentido)+\" con solape \"+str(solapeFinal))\n",
    "            print(\"\\t Definición: \"+str(sentido.definition())+\"\\n\" )\n",
    "                \n",
    "            \n"
   ]
  },
  {
   "cell_type": "code",
   "execution_count": 10,
   "metadata": {},
   "outputs": [
    {
     "name": "stdout",
     "output_type": "stream",
     "text": [
      "...Analizando: heroes ( 7 sentidos)-->Synset('hero.n.01') con solape 1\n",
      "\t Definición: a man distinguished by exceptional courage and nobility and strength\n",
      "\n",
      "...Analizando: one ( 9 sentidos)-->Synset('one.n.01') con solape 2\n",
      "\t Definición: the smallest whole number or a numeral representing this number\n",
      "\n",
      "...Analizando: day ( 10 sentidos)-->Synset('day.n.05') con solape 3\n",
      "\t Definición: the recurring hours when you are not sleeping (especially those when you are working)\n",
      "\n"
     ]
    }
   ],
   "source": [
    "#llamamos la función\n",
    "wsdFun(\"We can be heroes just for one day\")"
   ]
  },
  {
   "cell_type": "raw",
   "metadata": {},
   "source": [
    "2.- Utilizar la función definida, wsd, sobre la frase \"I saw a man who is 98 years old and can still walk and tell jokes\""
   ]
  },
  {
   "cell_type": "code",
   "execution_count": 60,
   "metadata": {},
   "outputs": [
    {
     "name": "stdout",
     "output_type": "stream",
     "text": [
      "...Analizando: saw ( 28 sentidos)-->Synset('saw.v.01') con solape 1\n",
      "\t Definición: cut with a saw\n",
      "\n",
      "...Analizando: man ( 13 sentidos)-->Synset('man.n.03') con solape 1\n",
      "\t Definición: the generic use of the word to refer to any human being\n",
      "\n",
      "...Analizando: years ( 7 sentidos)-->Synset('long_time.n.01') con solape 2\n",
      "\t Definición: a prolonged period of time\n",
      "\n",
      "...Analizando: old ( 9 sentidos)-->Synset('old.a.02') con solape 6\n",
      "\t Definición: of long duration; not new\n",
      "\n",
      "...Analizando: still ( 18 sentidos)-->Synset('still.r.04') con solape 3\n",
      "\t Definición: without moving or making a sound\n",
      "\n",
      "...Analizando: walk ( 17 sentidos)-->Synset('walk.v.01') con solape 3\n",
      "\t Definición: use one's feet to advance; advance by steps\n",
      "\n",
      "...Analizando: tell ( 9 sentidos)-->Synset('state.v.01') con solape 1\n",
      "\t Definición: express in words\n",
      "\n",
      "...Analizando: jokes ( 6 sentidos)-->Synset('joke.v.01') con solape 1\n",
      "\t Definición: tell a joke; speak humorously\n",
      "\n"
     ]
    }
   ],
   "source": [
    "wsdFun(\"I saw a man who is 98 years old and can still walk and tell jokes\")"
   ]
  }
 ],
 "metadata": {
  "anaconda-cloud": {},
  "kernelspec": {
   "display_name": "Python 3",
   "language": "python",
   "name": "python3"
  },
  "language_info": {
   "codemirror_mode": {
    "name": "ipython",
    "version": 3
   },
   "file_extension": ".py",
   "mimetype": "text/x-python",
   "name": "python",
   "nbconvert_exporter": "python",
   "pygments_lexer": "ipython3",
   "version": "3.7.4"
  }
 },
 "nbformat": 4,
 "nbformat_minor": 1
}
