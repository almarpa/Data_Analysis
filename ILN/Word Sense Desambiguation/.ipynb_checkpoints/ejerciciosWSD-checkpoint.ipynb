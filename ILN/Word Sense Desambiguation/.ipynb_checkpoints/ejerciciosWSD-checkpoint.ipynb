{
 "cells": [
  {
   "cell_type": "markdown",
   "metadata": {},
   "source": [
    "# Ejercicios WSD"
   ]
  },
  {
   "cell_type": "raw",
   "metadata": {},
   "source": [
    "1.- Define una función python que dada una palabra y su categoría muestre el número de sentidos (synsets) que tiene en wordnet y para cada uno de ellos: el identificador del synset, su definición, ejemplos de uso y sus sinónimos (o lemas). Si no se indica categoría debe mostrar todos los sentidos y la información relacionada para todas las categorías. "
   ]
  },
  {
   "cell_type": "code",
   "execution_count": 76,
   "metadata": {},
   "outputs": [],
   "source": [
    "import nltk\n",
    "#nltk.download('wordnet')\n",
    "from nltk.corpus import wordnet as wn\n",
    "\n",
    "def ejercicio1_v1(word,category):\n",
    "    count = 0\n",
    "    list = wn.synsets(word)\n",
    "    for synset in wn.synsets(word,category):\n",
    "        print(\"Identifier : \" + str(list[count]))\n",
    "        print(\"Definition  \"+ str(count) + \": \"+ synset.definition())\n",
    "        print(\"Examples :\" + str(synset.examples()))\n",
    "        print(\"Lemmas :\" + str(synset.lemma_names()))\n",
    "        print()\n",
    "        count += 1\n",
    "        \n",
    "def ejercicio1_v2(word):\n",
    "    count = 0\n",
    "    list = wn.synsets(word)\n",
    "    for synset in wn.synsets(word):\n",
    "        print(\"Identifier : \" + str(list[count]))\n",
    "        print(\"Definition  \"+ str(count) + \": \"+ synset.definition())\n",
    "        print(\"Examples :\" + str(synset.examples()))\n",
    "        print(\"Lemmas :\" + str(synset.lemma_names()))\n",
    "        print()\n",
    "        count += 1"
   ]
  },
  {
   "cell_type": "raw",
   "metadata": {},
   "source": [
    "2.- Ejecuta la función anterior para la palabra \"dish\"."
   ]
  },
  {
   "cell_type": "code",
   "execution_count": 97,
   "metadata": {},
   "outputs": [
    {
     "name": "stdout",
     "output_type": "stream",
     "text": [
      "Identifier : Synset('dish.n.01')\n",
      "Definition  0: a piece of dishware normally used as a container for holding or serving food\n",
      "Examples :['we gave them a set of dishes for a wedding present']\n",
      "Lemmas :['dish']\n",
      "\n",
      "Identifier : Synset('dish.n.02')\n",
      "Definition  1: a particular item of prepared food\n",
      "Examples :['she prepared a special dish for dinner']\n",
      "Lemmas :['dish']\n",
      "\n",
      "Identifier : Synset('dish.n.03')\n",
      "Definition  2: the quantity that a dish will hold\n",
      "Examples :['they served me a dish of rice']\n",
      "Lemmas :['dish', 'dishful']\n",
      "\n",
      "Identifier : Synset('smasher.n.02')\n",
      "Definition  3: a very attractive or seductive looking woman\n",
      "Examples :[]\n",
      "Lemmas :['smasher', 'stunner', 'knockout', 'beauty', 'ravisher', 'sweetheart', 'peach', 'lulu', 'looker', 'mantrap', 'dish']\n",
      "\n",
      "Identifier : Synset('dish.n.05')\n",
      "Definition  4: directional antenna consisting of a parabolic reflector for microwave or radio frequency radiation\n",
      "Examples :[]\n",
      "Lemmas :['dish', 'dish_aerial', 'dish_antenna', 'saucer']\n",
      "\n",
      "Identifier : Synset('cup_of_tea.n.01')\n",
      "Definition  5: an activity that you like or at which you are superior\n",
      "Examples :['chemistry is not my cup of tea', 'his bag now is learning to play golf', 'marriage was scarcely his dish']\n",
      "Lemmas :['cup_of_tea', 'bag', 'dish']\n",
      "\n",
      "Identifier : Synset('serve.v.06')\n",
      "Definition  6: provide (usually but not necessarily food)\n",
      "Examples :['We serve meals for the homeless', 'She dished out the soup at 8 P.M.', 'The entertainers served up a lively show']\n",
      "Lemmas :['serve', 'serve_up', 'dish_out', 'dish_up', 'dish']\n",
      "\n",
      "Identifier : Synset('dish.v.02')\n",
      "Definition  7: make concave; shape like a dish\n",
      "Examples :[]\n",
      "Lemmas :['dish']\n",
      "\n"
     ]
    }
   ],
   "source": [
    "ejercicio1_v2(\"dish\")"
   ]
  },
  {
   "cell_type": "raw",
   "metadata": {},
   "source": [
    "3.- Ejecuta la función anterior para la palabra dish con categoria nombre"
   ]
  },
  {
   "cell_type": "code",
   "execution_count": 98,
   "metadata": {},
   "outputs": [
    {
     "name": "stdout",
     "output_type": "stream",
     "text": [
      "Identifier : Synset('dish.n.01')\n",
      "Definition  0: a piece of dishware normally used as a container for holding or serving food\n",
      "Examples :['we gave them a set of dishes for a wedding present']\n",
      "Lemmas :['dish']\n",
      "\n",
      "Identifier : Synset('dish.n.02')\n",
      "Definition  1: a particular item of prepared food\n",
      "Examples :['she prepared a special dish for dinner']\n",
      "Lemmas :['dish']\n",
      "\n",
      "Identifier : Synset('dish.n.03')\n",
      "Definition  2: the quantity that a dish will hold\n",
      "Examples :['they served me a dish of rice']\n",
      "Lemmas :['dish', 'dishful']\n",
      "\n",
      "Identifier : Synset('smasher.n.02')\n",
      "Definition  3: a very attractive or seductive looking woman\n",
      "Examples :[]\n",
      "Lemmas :['smasher', 'stunner', 'knockout', 'beauty', 'ravisher', 'sweetheart', 'peach', 'lulu', 'looker', 'mantrap', 'dish']\n",
      "\n",
      "Identifier : Synset('dish.n.05')\n",
      "Definition  4: directional antenna consisting of a parabolic reflector for microwave or radio frequency radiation\n",
      "Examples :[]\n",
      "Lemmas :['dish', 'dish_aerial', 'dish_antenna', 'saucer']\n",
      "\n",
      "Identifier : Synset('cup_of_tea.n.01')\n",
      "Definition  5: an activity that you like or at which you are superior\n",
      "Examples :['chemistry is not my cup of tea', 'his bag now is learning to play golf', 'marriage was scarcely his dish']\n",
      "Lemmas :['cup_of_tea', 'bag', 'dish']\n",
      "\n"
     ]
    }
   ],
   "source": [
    "ejercicio1_v1(\"dish\",wn.NOUN)"
   ]
  },
  {
   "cell_type": "raw",
   "metadata": {},
   "source": [
    "4.- Define una función python que dada una frase, la tokenize y muestre por pantalla, para cada palabra con contenido (no stopwords), su grado de ambigüedad."
   ]
  },
  {
   "cell_type": "code",
   "execution_count": 109,
   "metadata": {},
   "outputs": [],
   "source": [
    "def ambiguedad(sentence):\n",
    "    list = nltk.word_tokenize(sentence)\n",
    "    stopwords = nltk.corpus.stopwords.words('english')\n",
    "    contentwords = [w for w in list if w.lower() not in stopwords]\n",
    "\n",
    "    for word in contentwords:\n",
    "        print(word + \": \"+ str(len(wn.synsets(word))))"
   ]
  },
  {
   "cell_type": "raw",
   "metadata": {},
   "source": [
    "5.- Ejecuta la función que acabas de definir sobre la frase \"I saw a man who is 98 years old and can still walk and tell jokes\""
   ]
  },
  {
   "cell_type": "code",
   "execution_count": 110,
   "metadata": {},
   "outputs": [
    {
     "name": "stdout",
     "output_type": "stream",
     "text": [
      "saw: 28\n",
      "man: 13\n",
      "98: 1\n",
      "years: 7\n",
      "old: 9\n",
      "still: 18\n",
      "walk: 17\n",
      "tell: 9\n",
      "jokes: 6\n"
     ]
    }
   ],
   "source": [
    "ambiguedad(\"I saw a man who is 98 years old and can still walk and tell jokes\")"
   ]
  },
  {
   "cell_type": "raw",
   "metadata": {},
   "source": [
    "6.- Define una función python para calcular la polisemia media de los lemas de una categoría dada en wordNet. "
   ]
  },
  {
   "cell_type": "code",
   "execution_count": 135,
   "metadata": {},
   "outputs": [],
   "source": [
    "def polisemia(cat):\n",
    "    \n",
    "    list_lemmas = wn.all_lemma_names(pos = cat)  #devuelve lista con todos los lemas relacionados con la categoria\n",
    "\n",
    "    suma_sentidos = 0\n",
    "    lenght = 0\n",
    "    for lem in list_lemmas:\n",
    "        list_sentidos = wn.synsets(lem, pos = cat)   #devuelve lista con el número de sentidos del lema en la categoría\n",
    "        suma_sentidos += len(list_sentidos)\n",
    "        lenght += 1\n",
    "    \n",
    "    #Sumando los sentidos de cada lema en categoría y dividiendo por el\n",
    "    #número de lemas en dicha categoría tendremos la polisemia media.\n",
    "    print(suma_sentidos/lenght)"
   ]
  },
  {
   "cell_type": "raw",
   "metadata": {},
   "source": [
    "7.- Utiliza la función definida para calcular la polisemia media de nombres, verbos, adjetivos y adverbios en wordNet y constatar la veracidad de la siguiente afirmación: la polisemia media más alta es la de los verbos (aproximadamente 2), seguida de los adjetivos, adverbios y nombres."
   ]
  },
  {
   "cell_type": "code",
   "execution_count": 136,
   "metadata": {},
   "outputs": [
    {
     "name": "stdout",
     "output_type": "stream",
     "text": [
      "2.1865729898516784\n",
      "1.406536617160948\n",
      "1.2532916759651864\n",
      "1.2610825311125826\n"
     ]
    }
   ],
   "source": [
    "polisemia(wn.VERB)\n",
    "polisemia(wn.ADJ)\n",
    "polisemia(wn.ADV)\n",
    "polisemia(wn.NOUN)"
   ]
  }
 ],
 "metadata": {
  "anaconda-cloud": {},
  "kernelspec": {
   "display_name": "Python 3",
   "language": "python",
   "name": "python3"
  },
  "language_info": {
   "codemirror_mode": {
    "name": "ipython",
    "version": 3
   },
   "file_extension": ".py",
   "mimetype": "text/x-python",
   "name": "python",
   "nbconvert_exporter": "python",
   "pygments_lexer": "ipython3",
   "version": "3.7.4"
  }
 },
 "nbformat": 4,
 "nbformat_minor": 1
}
