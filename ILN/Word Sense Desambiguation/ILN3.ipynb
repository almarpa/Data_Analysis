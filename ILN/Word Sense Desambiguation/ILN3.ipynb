{
 "cells": [
  {
   "cell_type": "markdown",
   "metadata": {},
   "source": [
    "# ILN3: WSD. El Algoritmo de Lesk"
   ]
  },
  {
   "cell_type": "raw",
   "metadata": {},
   "source": [
    "Se trata de definir y usar una función que, dada una frase y utilizando el algoritmo de Lesk, desambigüe cada una de sus palabras con contenido. La signatura se construirá considerando la definición y los ejemplos de cada synset."
   ]
  },
  {
   "cell_type": "raw",
   "metadata": {},
   "source": [
    "1.- Definir la función wsd que dada una frase y usando el algoritmo de Lesk muestre por pantalla el resultado de la desambiguación de cada una de sus palabras. \n",
    "Para ello, para cada palabra de la frase w y para cada sentido syn de w, sin considerar las stopwords, se debe computar el\n",
    "solapamiento, es decir, el número de palabras en común entre la definición y ejemplos del sentido syn y la frase. El syn que maximice este solapamiento será el asignado a la palabra w."
   ]
  },
  {
   "cell_type": "code",
   "execution_count": 113,
   "metadata": {},
   "outputs": [],
   "source": [
    "# Alejandro Marco Palomares y Daniela Márquez\n",
    "\n",
    "import nltk\n",
    "from nltk.tokenize import word_tokenize\n",
    "from nltk.corpus import stopwords\n",
    "from nltk.corpus import wordnet as wn\n",
    "\n",
    "def wsd(sentence):\n",
    "    \n",
    "    #set of words in the sentence\n",
    "    context = set(word_tokenize(sentence))\n",
    "    \n",
    "    #remove stop_words from sentence\n",
    "    non_stop_words_context = []\n",
    "    for word in context:\n",
    "        if word.lower() not in stopwords.words('english'):\n",
    "            non_stop_words_context.append(word.lower())\n",
    "    \n",
    "    for word in non_stop_words_context:\n",
    "        \n",
    "        print(\"----------------------------------------------------------------------------------------------\")\n",
    "        #by default best sense is null\n",
    "        best_sense = None\n",
    "        #by default overlap is 0 \n",
    "        max_overlap = 0\n",
    "        #obtain senses for a word\n",
    "        word_senses = wn.synsets(word)\n",
    "\n",
    "        for sense in word_senses:\n",
    "                \n",
    "            signature = obtain_Signature(sense)\n",
    "            print(signature)   ############################################   para depurar\n",
    "            \n",
    "            overlap = do_Overlap(signature, context)\n",
    "            print(overlap)     ############################################   para depurar\n",
    "            \n",
    "            if overlap > max_overlap:\n",
    "                max_overlap = overlap\n",
    "                best_sense = sense\n",
    "        \n",
    "        if(best_sense is not None):\n",
    "            print(\"... Analizando \" + word + \" (\" + str(len(word_senses)) + \" sentidos) \" +\n",
    "                  \"--> \" + str(best_sense) + \" con solape \" + str(max_overlap))\n",
    "            print(str(best_sense.definition()))\n",
    "            \n",
    "            \n",
    "def obtain_Signature(sense):\n",
    "    #signature -> considering definitions and examples of synsets \n",
    "    definition = set(word_tokenize(sense.definition()))\n",
    "    for example in sense.examples(): \n",
    "        definition.union(set(word_tokenize(example)))\n",
    "    return definition\n",
    "\n",
    "def do_Overlap(signature, context):\n",
    "    #get length of overlaps:\n",
    "    overlaps = signature.intersection(context)\n",
    "    return len(overlaps)\n",
    "\n"
   ]
  },
  {
   "cell_type": "raw",
   "metadata": {},
   "source": [
    "2.- Utilizar la función definida, wsd, sobre la frase \"I saw a man who is 98 years old and can still walk and tell jokes\""
   ]
  },
  {
   "cell_type": "code",
   "execution_count": 114,
   "metadata": {
    "scrolled": true
   },
   "outputs": [
    {
     "name": "stdout",
     "output_type": "stream",
     "text": [
      "----------------------------------------------------------------------------------------------\n",
      "{'the', 'or', 'smallest', 'whole', 'number', 'a', 'numeral', 'this', 'representing'}\n",
      "0\n",
      "{'or', 'a', 'single', 'thing', 'person'}\n",
      "0\n",
      "{'or', 'a', 'single', 'used', 'thing', 'two', 'of', 'more', 'unit', ';', 'not'}\n",
      "0\n",
      "{'the', 'a', 'having', 'indivisible', 'of', 'character', 'unit'}\n",
      "0\n",
      "{'the', 'or', 'same', 'kind', 'of', 'quality'}\n",
      "0\n",
      "{'informally', 'an', 'as', 'used', 'intensifier'}\n",
      "0\n",
      "{'or', 'position', 'indefinite', 'time', 'in'}\n",
      "0\n",
      "{'made', 'combining', 'a', 'components', 'single', 'entity', 'separate', 'by', 'being'}\n",
      "0\n",
      "{'comparison', 'or', 'beyond', 'above', 'eminent'}\n",
      "0\n",
      "----------------------------------------------------------------------------------------------\n",
      "{'courage', 'strength', 'and', 'a', 'nobility', 'man', 'distinguished', 'by', 'exceptional'}\n",
      "0\n",
      "{'the', 'or', 'a', 'principal', 'novel', 'poem', 'character', 'movie', 'in', 'play'}\n",
      "0\n",
      "{'who', 'a', 'for', 'someone', 'cause', 'fights'}\n",
      "1\n",
      "{'the', 'determine', 'mechanical', 'first', 'to', 'mathematician', '(', 'Greek', 'who', 'devised', 'inventor', 'a', 'described', 'devices', 'century', 'way', 'triangle', 'and', 'various', 'of', ')', 'area'}\n",
      "0\n",
      "{'the', 'courage', 'strength', 'for', 'offspring', 'god', '(', 'exploits', ';', 'celebrated', 'a', 'mythology', 'bold', 'often', 'classical', 'mortal', 'and', 'great', ')', 'of', 'being'}\n",
      "1\n",
      "{'the', 'Hellespont', 'lover', 'to', 'priestess', '(', 'drowned', 'trying', 'swim', 'Greek', 'who', 'Aphrodite', 'her', 'mythology', 'herself', 'see', 'when', ')', 'of', 'killed', 'Leander', 'while'}\n",
      "0\n",
      "{'the', 'States', 'crusty', 'names', 'different', 'lengthwise', 'are', 'used', 'United', 'roll', 'in', 'split', 'made', '(', 'lettuce', ';', 'filled', 'with', 'meats', 'onion', 'a', 'large', 'sandwich', 'and', 'cheese', 'condiments', 'sections', 'of', ')', 'tomato', 'long'}\n",
      "0\n",
      "... Analizando heroes (7 sentidos) --> Synset('champion.n.02') con solape 1\n",
      "someone who fights for a cause\n",
      "----------------------------------------------------------------------------------------------\n",
      "{'make', 'a', 'on', 'axis', 'complete', 'for', 'its', 'to', 'time', 'rotation', 'Earth'}\n",
      "1\n",
      "{'or', 'point', 'period', 'some', 'time', 'in'}\n",
      "0\n",
      "{'or', 'particular', 'a', 'observance', 'assigned', 'to', 'day', 'purpose'}\n",
      "1\n",
      "{'the', 'before', 'after', 'and', 'is', 'light', 'sunrise', 'outside', 'time', 'it', 'sunset', 'while'}\n",
      "0\n",
      "{'the', 'sleeping', 'are', 'when', 'you', '(', 'recurring', 'hours', 'working', 'especially', ')', 'those', 'not'}\n",
      "0\n",
      "{'era', 'or', 'an', 'influence', 'of', 'existence'}\n",
      "0\n",
      "{'the', 'particular', 'by', 'time', 'to', 'taken', '.', 'on', '(', 'e.g', 'a', 'Mars', 'axis', 'complete', 'rotation', 'make', 'period', 'of', 'planet', ')', 'its'}\n",
      "0\n",
      "{'the', 'particular', 'for', 'minutes', 'than', 'time', 'to', 'day', '4', 'one', 'shorter', 'relative', 'mean', 'a', 'complete', 'rotation', 'earth', ',', 'star', 'of', 'solar', 'about'}\n",
      "3\n",
      "{'opportunity', 'of', 'period', 'a'}\n",
      "0\n",
      "{'his', 'States', 'best', 'United', 'writer', 'autobiographical', 'for', 'works', 'known', '(', ')', '1874-1935'}\n",
      "1\n",
      "... Analizando day (10 sentidos) --> Synset('sidereal_day.n.01') con solape 3\n",
      "the time for one complete rotation of the earth relative to a particular star, about 4 minutes shorter than a mean solar day\n"
     ]
    }
   ],
   "source": [
    "wsd(\"We can be heroes just for one day\")\n",
    "     \n",
    "#Solución para: \"We can be heroes just for one day\"\n",
    "#... Analizando heroes (7 sentidos) --> hero.n.01 con solape 1\n",
    "#a man distinguished by exceptional courage and nobility and strength\n",
    "#... Analizando one (9 sentidos) --> one.s.05 con solape 3\n",
    "#indefinite in time or position\n",
    "#... Analizando day (10 sentidos) --> day.n.05 con solape 3\n",
    "#the recurring hours when you are not sleeping (especially those when you are working)"
   ]
  }
 ],
 "metadata": {
  "anaconda-cloud": {},
  "kernelspec": {
   "display_name": "Python 3",
   "language": "python",
   "name": "python3"
  },
  "language_info": {
   "codemirror_mode": {
    "name": "ipython",
    "version": 3
   },
   "file_extension": ".py",
   "mimetype": "text/x-python",
   "name": "python",
   "nbconvert_exporter": "python",
   "pygments_lexer": "ipython3",
   "version": "3.7.4"
  }
 },
 "nbformat": 4,
 "nbformat_minor": 1
}
