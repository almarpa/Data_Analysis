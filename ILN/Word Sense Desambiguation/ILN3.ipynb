{
 "cells": [
  {
   "cell_type": "markdown",
   "metadata": {},
   "source": [
    "# ILN3: WSD. El Algoritmo de Lesk"
   ]
  },
  {
   "cell_type": "raw",
   "metadata": {},
   "source": [
    "Se trata de definir y usar una función que, dada una frase y utilizando el algoritmo de Lesk, desambigüe cada una de sus palabras con contenido. La signatura se construirá considerando la definición y los ejemplos de cada synset."
   ]
  },
  {
   "cell_type": "raw",
   "metadata": {},
   "source": [
    "1.- Definir la función wsd que dada una frase y usando el algoritmo de Lesk muestre por pantalla el resultado de la desambiguación de cada una de sus palabras. \n",
    "Para ello, para cada palabra de la frase w y para cada sentido syn de w, sin considerar las stopwords, se debe computar el\n",
    "solapamiento, es decir, el número de palabras en común entre la definición y ejemplos del sentido syn y la frase. El syn que maximice este solapamiento será el asignado a la palabra w."
   ]
  },
  {
   "cell_type": "code",
   "execution_count": 1,
   "metadata": {},
   "outputs": [],
   "source": [
    "# Alejandro Marco Palomares y Daniela Márquez\n",
    "\n",
    "import nltk\n",
    "from nltk.tokenize import word_tokenize\n",
    "from nltk.corpus import stopwords\n",
    "from nltk.corpus import wordnet as wn\n",
    "\n",
    "def wsd(sentence):\n",
    "    \n",
    "    #set of words in the sentence\n",
    "    context = set(word_tokenize(sentence))\n",
    "    \n",
    "    #remove stop_words from sentence\n",
    "    non_stop_words_context = []\n",
    "    for word in context:\n",
    "        if word.lower() not in stopwords.words('english'):\n",
    "            non_stop_words_context.append(word.lower())\n",
    "    \n",
    "    for word in non_stop_words_context:\n",
    "        \n",
    "        #by default best sense is null\n",
    "        best_sense = None\n",
    "        #by default overlap is 0 \n",
    "        max_overlap = 0\n",
    "        #obtain senses for a word\n",
    "        word_senses = wn.synsets(word)\n",
    "\n",
    "        for sense in word_senses:\n",
    "            \n",
    "            signature = obtain_Signature(sense)\n",
    "            \n",
    "            overlap = do_Overlap(signature, context)\n",
    "            \n",
    "            if overlap > max_overlap:\n",
    "                max_overlap = overlap\n",
    "                best_sense = sense\n",
    "        \n",
    "        if(best_sense is not None):\n",
    "            print(\"... Analizando \" + word + \" (\" + str(len(word_senses)) + \" sentidos) \" +\n",
    "                  \"--> \" + str(best_sense) + \" con solape \" + str(max_overlap))\n",
    "            print(str(best_sense.definition()))\n",
    "        \n",
    "        print(\"                                                      \")\n",
    "            \n",
    "            \n",
    "def obtain_Signature(sense):\n",
    "    #signature -> considering definitions and examples of synsets \n",
    "    definition = set(word_tokenize(sense.definition().lower()))\n",
    "    for example in sense.examples(): \n",
    "        definition = definition.union(set(word_tokenize(example.lower())))\n",
    "    return definition\n",
    "\n",
    "def do_Overlap(signature, context):\n",
    "    #get length of overlaps:\n",
    "    overlaps = signature.intersection(context)\n",
    "    return len(overlaps)\n"
   ]
  },
  {
   "cell_type": "raw",
   "metadata": {},
   "source": [
    "2.- Utilizar la función definida, wsd, sobre la frase \"I saw a man who is 98 years old and can still walk and tell jokes\""
   ]
  },
  {
   "cell_type": "code",
   "execution_count": 2,
   "metadata": {
    "scrolled": true
   },
   "outputs": [
    {
     "name": "stdout",
     "output_type": "stream",
     "text": [
      "... Analizando one (9 sentidos) --> Synset('one.s.05') con solape 2\n",
      "indefinite in time or position\n",
      "                                                      \n",
      "... Analizando heroes (7 sentidos) --> Synset('hero.n.01') con solape 1\n",
      "a man distinguished by exceptional courage and nobility and strength\n",
      "                                                      \n",
      "... Analizando day (10 sentidos) --> Synset('sidereal_day.n.01') con solape 3\n",
      "the time for one complete rotation of the earth relative to a particular star, about 4 minutes shorter than a mean solar day\n",
      "                                                      \n"
     ]
    }
   ],
   "source": [
    "wsd(\"We can be heroes just for one day\")\n",
    "     \n",
    "#Solución para: \"We can be heroes just for one day\"\n",
    "#... Analizando heroes (7 sentidos) --> hero.n.01 con solape 1\n",
    "#a man distinguished by exceptional courage and nobility and strength\n",
    "#... Analizando one (9 sentidos) --> one.s.05 con solape 3\n",
    "#indefinite in time or position\n",
    "#... Analizando day (10 sentidos) --> day.n.05 con solape 3\n",
    "#the recurring hours when you are not sleeping (especially those when you are working)"
   ]
  },
  {
   "cell_type": "code",
   "execution_count": 3,
   "metadata": {},
   "outputs": [
    {
     "name": "stdout",
     "output_type": "stream",
     "text": [
      "... Analizando old (9 sentidos) --> Synset('old.a.01') con solape 3\n",
      "(used especially of persons) having lived for a relatively long time or attained a specific age\n",
      "                                                      \n",
      "... Analizando man (13 sentidos) --> Synset('man.n.01') con solape 4\n",
      "an adult person who is male (as opposed to a woman)\n",
      "                                                      \n",
      "... Analizando still (18 sentidos) --> Synset('still.n.03') con solape 3\n",
      "an apparatus used for the distillation of liquids; consists of a vessel in which a substance is vaporized by heat and a condenser where the vapor is condensed\n",
      "                                                      \n",
      "... Analizando tell (9 sentidos) --> Synset('assure.v.02') con solape 5\n",
      "inform positively and with certainty and confidence\n",
      "                                                      \n",
      "... Analizando jokes (6 sentidos) --> Synset('joke.v.01') con solape 3\n",
      "tell a joke; speak humorously\n",
      "                                                      \n",
      "... Analizando saw (28 sentidos) --> Synset('see.v.01') con solape 3\n",
      "perceive by sight or have the power to perceive by sight\n",
      "                                                      \n",
      "... Analizando walk (17 sentidos) --> Synset('walk.v.01') con solape 3\n",
      "use one's feet to advance; advance by steps\n",
      "                                                      \n",
      "                                                      \n",
      "... Analizando years (7 sentidos) --> Synset('old_age.n.01') con solape 4\n",
      "a late time of life\n",
      "                                                      \n"
     ]
    }
   ],
   "source": [
    "wsd(\"I saw a man who is 98 years old and can still walk and tell jokes\")"
   ]
  }
 ],
 "metadata": {
  "anaconda-cloud": {},
  "kernelspec": {
   "display_name": "Python 3",
   "language": "python",
   "name": "python3"
  },
  "language_info": {
   "codemirror_mode": {
    "name": "ipython",
    "version": 3
   },
   "file_extension": ".py",
   "mimetype": "text/x-python",
   "name": "python",
   "nbconvert_exporter": "python",
   "pygments_lexer": "ipython3",
   "version": "3.7.4"
  }
 },
 "nbformat": 4,
 "nbformat_minor": 1
}
