{
 "cells": [
  {
   "cell_type": "markdown",
   "metadata": {},
   "source": [
    "Hola mundo code"
   ]
  },
  {
   "cell_type": "code",
   "execution_count": 5,
   "metadata": {},
   "outputs": [
    {
     "name": "stdout",
     "output_type": "stream",
     "text": [
      "ASASDF\n"
     ]
    }
   ],
   "source": [
    "print(\"ASASDF\")"
   ]
  },
  {
   "cell_type": "markdown",
   "metadata": {},
   "source": [
    "1. Define una función max () que toma como argumentos dos números y devuelve el mayor de ellos. "
   ]
  },
  {
   "cell_type": "code",
   "execution_count": 6,
   "metadata": {},
   "outputs": [
    {
     "name": "stdout",
     "output_type": "stream",
     "text": [
      "2\n"
     ]
    }
   ],
   "source": [
    "def foo(X,Y):\n",
    "    print(max(X,Y))\n",
    "foo(1,2)"
   ]
  },
  {
   "cell_type": "markdown",
   "metadata": {},
   "source": [
    "2. Escribe una función que toma un carácter (es decir, una cadena de longitud 1) y devuelve True si es una vocal, False en caso contrario"
   ]
  },
  {
   "cell_type": "code",
   "execution_count": 16,
   "metadata": {},
   "outputs": [
    {
     "data": {
      "text/plain": [
       "True"
      ]
     },
     "execution_count": 16,
     "metadata": {},
     "output_type": "execute_result"
    }
   ],
   "source": [
    "def foo2(X):\n",
    "    C = 'AEIOU'\n",
    "    return X in C\n",
    "\n",
    "foo2(\"E\")\n"
   ]
  },
  {
   "cell_type": "markdown",
   "metadata": {},
   "source": [
    "3. Definir una función sum ()  que suma todos los números de una lista de números. Por ejemplo, suma ([1, 2, 3, 4]) debería devolver 10."
   ]
  },
  {
   "cell_type": "code",
   "execution_count": 20,
   "metadata": {},
   "outputs": [
    {
     "name": "stdout",
     "output_type": "stream",
     "text": [
      "6\n"
     ]
    }
   ],
   "source": [
    "def foo3(list_of_lists):\n",
    "    res = 0\n",
    "    for X in list_of_lists:\n",
    "        res = res + X\n",
    "    print(res)\n",
    "    \n",
    "foo3([1,2,3])\n",
    "    \n"
   ]
  },
  {
   "cell_type": "markdown",
   "metadata": {},
   "source": [
    "4. Definir una función reverse () que retorna la inversión de una cadena. Por ejemplo, reverse (\"I am testing\") debería devolver la cadena \"gnitset ma I\"."
   ]
  },
  {
   "cell_type": "code",
   "execution_count": 26,
   "metadata": {},
   "outputs": [
    {
     "name": "stdout",
     "output_type": "stream",
     "text": [
      "aaaaa xela\n"
     ]
    }
   ],
   "source": [
    "def foo4(X):\n",
    "    print(X[::-1])\n",
    "\n",
    "foo4(\"alex aaaaa\")\n",
    "        "
   ]
  },
  {
   "cell_type": "markdown",
   "metadata": {},
   "source": [
    "5. Un pangrama es una frase que contiene todas las letras del alfabeto Inglés, al menos una vez, por ejemplo: \"The quick brown fox jumps over the lazy dog\".  Escribe una función para comprobar si una sentencia para ver si es un pangrama o no.\n"
   ]
  },
  {
   "cell_type": "code",
   "execution_count": 40,
   "metadata": {},
   "outputs": [
    {
     "name": "stdout",
     "output_type": "stream",
     "text": [
      "false\n"
     ]
    }
   ],
   "source": [
    "import string\n",
    "def foo5(X):\n",
    "    lowercaseInputString = X.lower()\n",
    "    lowercaseInputString = lowercaseInputString.replace(\" \",\"\")\n",
    "    inputStringList = set(lowercaseInputString)\n",
    "    if len(inputStringList) == 26 :\n",
    "        print(\"true\")\n",
    "    else:\n",
    "        print(\"false\")\n",
    "    \n",
    "foo5(\"The quin fox jumps over the lazy dog\")"
   ]
  },
  {
   "cell_type": "markdown",
   "metadata": {},
   "source": [
    "6. Escribe una función char_freq() que toma una cadena y crea una lista de frecuencias de los carácteres que figuran en el mismo. Representa la frecuencia de carácteres con un diccionario Python. Prueba con algo como char_freq (\"abbabcbdbabdbdbabababcbcbab\")."
   ]
  },
  {
   "cell_type": "code",
   "execution_count": 52,
   "metadata": {},
   "outputs": [
    {
     "name": "stdout",
     "output_type": "stream",
     "text": [
      "Per char frequency in 'AASSSDDDDD' is :\n",
      " Counter({'D': 5, 'S': 3, 'A': 2})\n",
      "Type of frequency_per_char is:  <class 'collections.Counter'>\n"
     ]
    }
   ],
   "source": [
    "from collections import Counter\n",
    "\n",
    "def char_seq(X):\n",
    "    frequency_per_char = Counter(X)\n",
    "    print (\"Per char frequency in '{}' is :\\n {}\".format(X, str(frequency_per_char)))\n",
    "    print (\"Type of frequency_per_char is: \", type(frequency_per_char))\n",
    "    \n",
    "char_seq(\"AASSSDDDDD\")"
   ]
  },
  {
   "cell_type": "markdown",
   "metadata": {},
   "source": [
    "7. Escribe una función que Determine si una cadena formada por corchetes es equilibrada, es decir, si consiste enteramente de pares de apertura / cierre de corchetes (en ese orden), y todos los corchetes abiertos se cierran correctamente.\n",
    "   []        OK   ][        NOT OK\n",
    "   [][]      OK   ][][      NOT OK\n",
    "   [[][]]    OK   []][[]    NOT OK"
   ]
  },
  {
   "cell_type": "code",
   "execution_count": 59,
   "metadata": {},
   "outputs": [
    {
     "name": "stdout",
     "output_type": "stream",
     "text": [
      "OK\n"
     ]
    }
   ],
   "source": [
    "from collections import Counter\n",
    "\n",
    "def valido(list_of_lists):\n",
    "    res = 0\n",
    "    for X in list_of_lists:\n",
    "        if X == \"[\" :\n",
    "            res = res + 1\n",
    "        else : \n",
    "            res = res - 1  \n",
    "        if res < 0 :\n",
    "            print(\"NOT OK\")\n",
    "            break\n",
    "            \n",
    "    if res == 0 :\n",
    "        print(\"OK\")\n",
    "\n",
    "        \n",
    "valido(\"[][][]\")\n",
    "    "
   ]
  },
  {
   "cell_type": "markdown",
   "metadata": {},
   "source": [
    "8. Realiza una función que descarge el libro \"ALICE'S ADVENTURES IN WONDERLAND\" de \"http://www.gutenberg.org/files/11/11.txt\" vuelque su contenido en un string, elimine caràcteres especiales ('\\r.,!:@#$?\\''), convierta letras mayúsculas a minúsculas, y muestre entonces las n palabras (pasado por parámetro) más comunes."
   ]
  },
  {
   "cell_type": "code",
   "execution_count": null,
   "metadata": {},
   "outputs": [],
   "source": [
    "def freqs(x):\n",
    "    from nltk.corpus import gutenberg\n",
    "    from nltk.probability import FreqDist\n",
    "    fdist = FreqList(word.lower() for word in gutenberg.words(\"carroll-alice.txt\"))\n",
    "    print(fdist())\n",
    "freqs()"
   ]
  }
 ],
 "metadata": {
  "kernelspec": {
   "display_name": "Python 3",
   "language": "python",
   "name": "python3"
  },
  "language_info": {
   "codemirror_mode": {
    "name": "ipython",
    "version": 3
   },
   "file_extension": ".py",
   "mimetype": "text/x-python",
   "name": "python",
   "nbconvert_exporter": "python",
   "pygments_lexer": "ipython3",
   "version": "3.7.4"
  }
 },
 "nbformat": 4,
 "nbformat_minor": 2
}
